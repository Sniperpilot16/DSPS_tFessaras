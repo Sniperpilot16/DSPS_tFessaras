{
  "nbformat": 4,
  "nbformat_minor": 0,
  "metadata": {
    "colab": {
      "name": "Lab4.ipynb",
      "provenance": [],
      "collapsed_sections": [],
      "include_colab_link": true
    },
    "kernelspec": {
      "name": "python3",
      "display_name": "Python 3"
    }
  },
  "cells": [
    {
      "cell_type": "markdown",
      "metadata": {
        "id": "view-in-github",
        "colab_type": "text"
      },
      "source": [
        "<a href=\"https://colab.research.google.com/github/TedFess/DSPS_tFessaras/blob/master/HW5/Lab4.ipynb\" target=\"_parent\"><img src=\"https://colab.research.google.com/assets/colab-badge.svg\" alt=\"Open In Colab\"/></a>"
      ]
    },
    {
      "cell_type": "code",
      "metadata": {
        "id": "bcOuYeB02mOC",
        "colab_type": "code",
        "outputId": "43db2018-1ecf-449d-a5cf-7292a5e81249",
        "colab": {
          "base_uri": "https://localhost:8080/",
          "height": 54
        }
      },
      "source": [
        "from google.colab import drive\n",
        "drive.mount(\"/content/drive\")"
      ],
      "execution_count": 10,
      "outputs": [
        {
          "output_type": "stream",
          "text": [
            "Drive already mounted at /content/drive; to attempt to forcibly remount, call drive.mount(\"/content/drive\", force_remount=True).\n"
          ],
          "name": "stdout"
        }
      ]
    },
    {
      "cell_type": "code",
      "metadata": {
        "id": "w5uGdUtv3qqa",
        "colab_type": "code",
        "outputId": "c14b69c8-f24e-433f-e2ed-6089eab72518",
        "colab": {
          "base_uri": "https://localhost:8080/",
          "height": 1000
        }
      },
      "source": [
        "ls \"drive/My Drive\""
      ],
      "execution_count": 2,
      "outputs": [
        {
          "output_type": "stream",
          "text": [
            " 20180425_225732.mp4\n",
            " 20180706_133020.mp4\n",
            " 20190522_174058.mp4\n",
            "\u001b[0m\u001b[01;34m'Colab Notebooks'\u001b[0m/\n",
            "'compatator 324.drawio'\n",
            " Controller.drawio\n",
            "'CPEG324: ISA Design and Benchmark [Lab 1].gdoc'\n",
            "'CPEG457: Assignment 2.gdoc'\n",
            "'CPEG457: Assignment One.gdoc'\n",
            " CPEG471-Lab5.gdoc\n",
            "'Cyber Hw 2.gdoc'\n",
            " \u001b[01;34mdonkey\u001b[0m/\n",
            "\u001b[01;34m'drupal vm'\u001b[0m/\n",
            " \u001b[01;34mdsps\u001b[0m/\n",
            " DSPS_HW2_2.ipynb\n",
            "\u001b[01;34m'ELEG 205 Lab 2019'\u001b[0m/\n",
            "'ELEG298 CPEG298 Final Project Report.gdoc'\n",
            "'ELEG305 Computer Assignment 2.gdoc'\n",
            "'ENTR Survey.gform'\n",
            " \u001b[01;34mFessaras_Theodore2018F\u001b[0m/\n",
            "'Getting started.pdf'\n",
            "'homework 7.docx'\n",
            "\u001b[01;34m'Lab 10'\u001b[0m/\n",
            "'Lab 10.gdoc'\n",
            "\u001b[01;34m'Lab 1 Phys 208'\u001b[0m/\n",
            "'Lab 1 Physics 208.gdoc'\n",
            "'Lab 3: Calculator ISA Design.gslides'\n",
            "'Lab 3 - Capacitance.gdoc'\n",
            "\u001b[01;34m'Lab 4-5'\u001b[0m/\n",
            " Lab4-RevEng.gdoc\n",
            "\u001b[01;34m'Lab 6'\u001b[0m/\n",
            "\u001b[01;34m'Lab 8'\u001b[0m/\n",
            "'Lab 8 Magnetostatics II.gdoc'\n",
            "\u001b[01;34m'Lab 9'\u001b[0m/\n",
            "'Lab 9 Induction.gdoc'\n",
            " legs.dxf\n",
            " \u001b[01;34mlulzbot\u001b[0m/\n",
            " Mid-Project-Demo1_TEAM10.html\n",
            "'Mt. Cuba Trip form 10 22 18.gform'\n",
            "'MUSC 101-FINAL PROJECT_Medium.mp4'\n",
            "\u001b[01;34m'music project'\u001b[0m/\n",
            "\u001b[01;34m'New folder'\u001b[0m/\n",
            " \u001b[01;34mPHYS467-HW5\u001b[0m/\n",
            "'PHYS HW 5.gdoc'\n",
            "'Physics Lab 3.gdoc'\n",
            "'Physics Lab 4.gdoc'\n",
            "'Physics Lab 5.gdoc'\n",
            "'phys lab 2.docx'\n",
            "'phys lab 2.docx.gdoc'\n",
            "'phys pendulum.xlsx'\n",
            " \u001b[01;34mpics\u001b[0m/\n",
            " plate.dxf\n",
            " \u001b[01;34mResearch\u001b[0m/\n",
            "'Research Materials.gdoc'\n",
            "'Resume (1).gdoc'\n",
            " Resume.gdoc\n",
            "'RockSat-C Project Idea.gdoc'\n",
            " S20170615No3.txt\n",
            "'Screw Parts List.gdoc'\n",
            "'SPS Undergraduate Research Presentation.gslides'\n",
            "\u001b[01;34m'Summer Research 2018'\u001b[0m/\n",
            "'Swing Out + Variation lesson.gdoc'\n",
            " Team10_HW2.html\n",
            " Team10_HW2.jpg\n",
            " Team10_HW2.pdf\n",
            "'Template - Business Model Canvas.gdraw'\n",
            " \u001b[01;34mtest_dir\u001b[0m/\n",
            "'Untitled Diagram.drawio'\n",
            "'Untitled Diagram.html'\n",
            "'Untitled document.gdoc'\n",
            "'Untitled form.gform'\n",
            " \u001b[01;34mWares\u001b[0m/\n",
            "'Wireshark Lab 3 - HTTP.gdoc'\n",
            "'Wireshark Lab 4.gdoc'\n"
          ],
          "name": "stdout"
        }
      ]
    },
    {
      "cell_type": "code",
      "metadata": {
        "id": "zgN4Qyxh3uKV",
        "colab_type": "code",
        "outputId": "3afda6fb-276a-4d48-aa20-41c4477fa318",
        "colab": {
          "base_uri": "https://localhost:8080/",
          "height": 34
        }
      },
      "source": [
        "cd \"drive/My Drive\""
      ],
      "execution_count": 4,
      "outputs": [
        {
          "output_type": "stream",
          "text": [
            "/content/drive/My Drive\n"
          ],
          "name": "stdout"
        }
      ]
    },
    {
      "cell_type": "code",
      "metadata": {
        "id": "WV_yYuXq4q2y",
        "colab_type": "code",
        "outputId": "84d996ea-0e45-4792-a69e-c26aac035da8",
        "colab": {
          "base_uri": "https://localhost:8080/",
          "height": 34
        }
      },
      "source": [
        "mkdir test_dir"
      ],
      "execution_count": 6,
      "outputs": [
        {
          "output_type": "stream",
          "text": [
            "mkdir: cannot create directory ‘test_dir’: File exists\n"
          ],
          "name": "stdout"
        }
      ]
    },
    {
      "cell_type": "code",
      "metadata": {
        "id": "kYRg1RsvRaIG",
        "colab_type": "code",
        "colab": {
          "base_uri": "https://localhost:8080/",
          "height": 1000
        },
        "outputId": "ee2c33bc-b797-485f-f091-10a091955e68"
      },
      "source": [
        "ls -ltr "
      ],
      "execution_count": 5,
      "outputs": [
        {
          "output_type": "stream",
          "text": [
            "total 1447084\n",
            "-rw------- 1 root root    696774 Jul  9  2016 'Getting started.pdf'\n",
            "-rw------- 1 root root     19084 Sep 26  2016 'phys lab 2.docx'\n",
            "-rw------- 1 root root       151 Sep 26  2016 'phys lab 2.docx.gdoc'\n",
            "-rw------- 1 root root       151 Oct 11  2016 'Physics Lab 3.gdoc'\n",
            "-rw------- 1 root root       151 Oct 18  2016 'Physics Lab 4.gdoc'\n",
            "-rw------- 1 root root       151 Nov  2  2016 'Physics Lab 5.gdoc'\n",
            "-rw------- 1 root root     15184 Dec  6  2016 'phys pendulum.xlsx'\n",
            "drwx------ 2 root root      4096 Feb 15  2017 \u001b[0m\u001b[01;34m'Lab 1 Phys 208'\u001b[0m/\n",
            "-rw------- 1 root root       151 Feb 21  2017 'Lab 1 Physics 208.gdoc'\n",
            "-rw------- 1 root root       151 Mar 15  2017 'Lab 3 - Capacitance.gdoc'\n",
            "drwx------ 2 root root      4096 Mar 22  2017 \u001b[01;34m'Lab 4-5'\u001b[0m/\n",
            "drwx------ 2 root root      4096 Apr  5  2017 \u001b[01;34m'Lab 6'\u001b[0m/\n",
            "drwx------ 2 root root      4096 Apr 19  2017 \u001b[01;34m'Lab 8'\u001b[0m/\n",
            "-rw------- 1 root root       151 Apr 26  2017 'Lab 8 Magnetostatics II.gdoc'\n",
            "drwx------ 2 root root      4096 Apr 26  2017 \u001b[01;34m'Lab 9'\u001b[0m/\n",
            "-rw------- 1 root root       151 May  3  2017 'Lab 9 Induction.gdoc'\n",
            "drwx------ 2 root root      4096 May  3  2017 \u001b[01;34m'Lab 10'\u001b[0m/\n",
            "-rw------- 1 root root       151 May 11  2017 'Lab 10.gdoc'\n",
            "-rw------- 1 root root      5450 Jun 28  2017  S20170615No3.txt\n",
            "-rw------- 1 root root       151 Sep 13  2017  Resume.gdoc\n",
            "-rw------- 1 root root       151 Sep 13  2017 'Resume (1).gdoc'\n",
            "-rw------- 1 root root      2399 Sep 18  2017  Team10_HW2.html\n",
            "-rw------- 1 root root    108985 Sep 18  2017  Team10_HW2.pdf\n",
            "-rw------- 1 root root     58581 Sep 18  2017  Team10_HW2.jpg\n",
            "-rw------- 1 root root      5317 Sep 22  2017  Mid-Project-Demo1_TEAM10.html\n",
            "-rw------- 1 root root     15300 Oct  6  2017 'homework 7.docx'\n",
            "-rw------- 1 root root      3102 Oct 23  2017 'Untitled Diagram.html'\n",
            "-rw------- 1 root root       151 Apr 17  2018 'ENTR Survey.gform'\n",
            "-rw------- 1 root root 391632687 Apr 26  2018  20180425_225732.mp4\n",
            "-rw------- 1 root root       151 May  2  2018 'ELEG305 Computer Assignment 2.gdoc'\n",
            "-rw------- 1 root root       151 May 24  2018 'ELEG298 CPEG298 Final Project Report.gdoc'\n",
            "-rw------- 1 root root       151 Jun  4  2018 'Research Materials.gdoc'\n",
            "drwx------ 2 root root      4096 Jun  7  2018 \u001b[01;34m'Summer Research 2018'\u001b[0m/\n",
            "-rw------- 1 root root  44800387 Jul  9  2018  20180706_133020.mp4\n",
            "drwx------ 2 root root      4096 Jul  9  2018  \u001b[01;34mlulzbot\u001b[0m/\n",
            "drwx------ 2 root root      4096 Jul 25  2018  \u001b[01;34mWares\u001b[0m/\n",
            "drwx------ 2 root root      4096 Aug  7  2018  \u001b[01;34mpics\u001b[0m/\n",
            "drwx------ 2 root root      4096 Aug  9  2018  \u001b[01;34mResearch\u001b[0m/\n",
            "drwx------ 2 root root      4096 Aug 27  2018  \u001b[01;34mFessaras_Theodore2018F\u001b[0m/\n",
            "-rw------- 1 root root       151 Sep 24  2018 'SPS Undergraduate Research Presentation.gslides'\n",
            "-rw------- 1 root root       151 Oct 17  2018 'Mt. Cuba Trip form 10 22 18.gform'\n",
            "drwx------ 2 root root      4096 Oct 24  2018 \u001b[01;34m'drupal vm'\u001b[0m/\n",
            "-rw------- 1 root root       151 Nov  2  2018 'Wireshark Lab 3 - HTTP.gdoc'\n",
            "-rw------- 1 root root       151 Nov 14  2018 'Wireshark Lab 4.gdoc'\n",
            "drwx------ 2 root root      4096 Dec  3  2018 \u001b[01;34m'music project'\u001b[0m/\n",
            "-rw------- 1 root root 307621498 Dec  3  2018 'MUSC 101-FINAL PROJECT_Medium.mp4'\n",
            "-rw------- 1 root root       151 Feb  7  2019 'Screw Parts List.gdoc'\n",
            "-rw------- 1 root root       151 Feb 23  2019 'Swing Out + Variation lesson.gdoc'\n",
            "-rw------- 1 root root    265115 Mar 19  2019  plate.dxf\n",
            "-rw------- 1 root root      2632 Mar 19  2019  legs.dxf\n",
            "-rw------- 1 root root       151 Mar 25  2019 'Cyber Hw 2.gdoc'\n",
            "-rw------- 1 root root       151 Mar 25  2019 'CPEG457: Assignment One.gdoc'\n",
            "-rw------- 1 root root       151 Mar 25  2019 'PHYS HW 5.gdoc'\n",
            "-rw------- 1 root root       151 Apr 19 03:05 'CPEG457: Assignment 2.gdoc'\n",
            "-rw------- 1 root root       400 Apr 26 03:16 'Untitled Diagram.drawio'\n",
            "-rw------- 1 root root      3166 Apr 26 04:40 'compatator 324.drawio'\n",
            "-rw------- 1 root root      2490 Apr 26 05:15  Controller.drawio\n",
            "-rw------- 1 root root       151 May  2 18:12 'Lab 3: Calculator ISA Design.gslides'\n",
            "-rw------- 1 root root       151 May  3 14:28 'CPEG324: ISA Design and Benchmark [Lab 1].gdoc'\n",
            "-rw------- 1 root root       151 May  6 16:38 'Untitled document.gdoc'\n",
            "-rw------- 1 root root       151 May 14 01:11 'Template - Business Model Canvas.gdraw'\n",
            "-rw------- 1 root root 736362914 May 22 21:59  20190522_174058.mp4\n",
            "drwx------ 2 root root      4096 Aug 12 12:02 \u001b[01;34m'New folder'\u001b[0m/\n",
            "drwx------ 2 root root      4096 Aug 12 12:03  \u001b[01;34mdonkey\u001b[0m/\n",
            "-rw------- 1 root root       151 Aug 30 17:53 'Untitled form.gform'\n",
            "drwx------ 2 root root      4096 Sep  4 20:29 \u001b[01;34m'Colab Notebooks'\u001b[0m/\n",
            "-rw------- 1 root root     85396 Sep  4 21:36  DSPS_HW2_2.ipynb\n",
            "-rw------- 1 root root       151 Sep 17 21:53 'RockSat-C Project Idea.gdoc'\n",
            "drwx------ 2 root root      4096 Sep 23 20:49  \u001b[01;34mtest_dir\u001b[0m/\n",
            "drwx------ 2 root root      4096 Sep 24 00:59 \u001b[01;34m'ELEG 205 Lab 2019'\u001b[0m/\n",
            "-rw------- 1 root root       151 Sep 24 20:03  Lab4-RevEng.gdoc\n",
            "-rw------- 1 root root       151 Sep 25 16:02  CPEG471-Lab5.gdoc\n",
            "drwx------ 2 root root      4096 Sep 29 20:39  \u001b[01;34mPHYS467-HW5\u001b[0m/\n",
            "drwx------ 2 root root      4096 Sep 29 20:40  \u001b[01;34mdsps\u001b[0m/\n"
          ],
          "name": "stdout"
        }
      ]
    },
    {
      "cell_type": "code",
      "metadata": {
        "id": "eD5_6fi14toj",
        "colab_type": "code",
        "outputId": "db5fa909-c63d-41c1-c5e2-d7684a115654",
        "colab": {
          "base_uri": "https://localhost:8080/",
          "height": 34
        }
      },
      "source": [
        "mv ./Team10_HW2.jpg ./test_dir"
      ],
      "execution_count": 0,
      "outputs": [
        {
          "output_type": "stream",
          "text": [
            "mv: cannot stat './Team10_HW2.jpg': No such file or directory\n"
          ],
          "name": "stdout"
        }
      ]
    },
    {
      "cell_type": "code",
      "metadata": {
        "id": "yjJNcFwF4_pD",
        "colab_type": "code",
        "outputId": "9285c280-b4b5-4914-c235-ecbf7cfbb9dd",
        "colab": {
          "base_uri": "https://localhost:8080/",
          "height": 34
        }
      },
      "source": [
        "cd test_dir/"
      ],
      "execution_count": 7,
      "outputs": [
        {
          "output_type": "stream",
          "text": [
            "/content/drive/My Drive/test_dir\n"
          ],
          "name": "stdout"
        }
      ]
    },
    {
      "cell_type": "code",
      "metadata": {
        "id": "dDua67ry5Bgt",
        "colab_type": "code",
        "outputId": "33368927-4aaa-40f7-9bcc-0bd816cf719b",
        "colab": {
          "base_uri": "https://localhost:8080/",
          "height": 34
        }
      },
      "source": [
        "ls\n"
      ],
      "execution_count": 11,
      "outputs": [
        {
          "output_type": "stream",
          "text": [
            "\u001b[0m\u001b[01;34mdrive\u001b[0m/  \u001b[01;34msample_data\u001b[0m/\n"
          ],
          "name": "stdout"
        }
      ]
    },
    {
      "cell_type": "code",
      "metadata": {
        "id": "dTlbt-Ma5CBD",
        "colab_type": "code",
        "outputId": "7c5d191b-d6c8-42ba-b2e4-9434b2f4e0f0",
        "colab": {
          "base_uri": "https://localhost:8080/",
          "height": 34
        }
      },
      "source": [
        "cd .."
      ],
      "execution_count": 0,
      "outputs": [
        {
          "output_type": "stream",
          "text": [
            "/content/drive/My Drive\n"
          ],
          "name": "stdout"
        }
      ]
    },
    {
      "cell_type": "code",
      "metadata": {
        "id": "LrHOXVWE5DFj",
        "colab_type": "code",
        "outputId": "542070e8-0fa4-46c8-a279-ef281ccda4cf",
        "colab": {
          "base_uri": "https://localhost:8080/",
          "height": 208
        }
      },
      "source": [
        "!wget \"https://www2.census.gov/programs-surveys/cbp/datasets/2016/zbp16totals.zip?#\""
      ],
      "execution_count": 0,
      "outputs": [
        {
          "output_type": "stream",
          "text": [
            "--2019-09-25 20:30:08--  https://www2.census.gov/programs-surveys/cbp/datasets/2016/zbp16totals.zip?\n",
            "Resolving www2.census.gov (www2.census.gov)... 184.27.28.80, 2600:1406:3c:387::208c, 2600:1406:3c:39b::208c\n",
            "Connecting to www2.census.gov (www2.census.gov)|184.27.28.80|:443... connected.\n",
            "HTTP request sent, awaiting response... 200 OK\n",
            "Length: unspecified [application/zip]\n",
            "Saving to: ‘zbp16totals.zip?’\n",
            "\n",
            "zbp16totals.zip?        [  <=>               ] 750.30K  3.60MB/s    in 0.2s    \n",
            "\n",
            "2019-09-25 20:30:09 (3.60 MB/s) - ‘zbp16totals.zip?’ saved [768303]\n",
            "\n"
          ],
          "name": "stdout"
        }
      ]
    },
    {
      "cell_type": "code",
      "metadata": {
        "id": "TkgSACmj5dTl",
        "colab_type": "code",
        "outputId": "15b945ba-450e-4942-d995-178a5bf847fc",
        "colab": {
          "base_uri": "https://localhost:8080/",
          "height": 1000
        }
      },
      "source": [
        "ls"
      ],
      "execution_count": 0,
      "outputs": [
        {
          "output_type": "stream",
          "text": [
            " 20180425_225732.mp4\n",
            " 20180706_133020.mp4\n",
            " 20190522_174058.mp4\n",
            "\u001b[0m\u001b[01;34m'Colab Notebooks'\u001b[0m/\n",
            "'compatator 324.drawio'\n",
            " Controller.drawio\n",
            "'CPEG324: ISA Design and Benchmark [Lab 1].gdoc'\n",
            "'CPEG457: Assignment 2.gdoc'\n",
            "'CPEG457: Assignment One.gdoc'\n",
            " CPEG471-Lab5.gdoc\n",
            "'Cyber Hw 2.gdoc'\n",
            " \u001b[01;34mdonkey\u001b[0m/\n",
            "\u001b[01;34m'drupal vm'\u001b[0m/\n",
            " DSPS_HW2_2.ipynb\n",
            "\u001b[01;34m'ELEG 205 Lab 2019'\u001b[0m/\n",
            "'ELEG298 CPEG298 Final Project Report.gdoc'\n",
            "'ELEG305 Computer Assignment 2.gdoc'\n",
            "'ENTR Survey.gform'\n",
            " \u001b[01;34mFessaras_Theodore2018F\u001b[0m/\n",
            "'Getting started.pdf'\n",
            "'homework 7.docx'\n",
            "\u001b[01;34m'Lab 10'\u001b[0m/\n",
            "'Lab 10.gdoc'\n",
            "\u001b[01;34m'Lab 1 Phys 208'\u001b[0m/\n",
            "'Lab 1 Physics 208.gdoc'\n",
            "'Lab 3: Calculator ISA Design.gslides'\n",
            "'Lab 3 - Capacitance.gdoc'\n",
            "\u001b[01;34m'Lab 4-5'\u001b[0m/\n",
            " Lab4-RevEng.gdoc\n",
            "\u001b[01;34m'Lab 6'\u001b[0m/\n",
            "\u001b[01;34m'Lab 8'\u001b[0m/\n",
            "'Lab 8 Magnetostatics II.gdoc'\n",
            "\u001b[01;34m'Lab 9'\u001b[0m/\n",
            "'Lab 9 Induction.gdoc'\n",
            " legs.dxf\n",
            " \u001b[01;34mlulzbot\u001b[0m/\n",
            " Mid-Project-Demo1_TEAM10.html\n",
            "'Mt. Cuba Trip form 10 22 18.gform'\n",
            "'MUSC 101-FINAL PROJECT_Medium.mp4'\n",
            "\u001b[01;34m'music project'\u001b[0m/\n",
            "\u001b[01;34m'New folder'\u001b[0m/\n",
            "'PHYS HW 5.gdoc'\n",
            "'Physics Lab 3.gdoc'\n",
            "'Physics Lab 4.gdoc'\n",
            "'Physics Lab 5.gdoc'\n",
            "'phys lab 2.docx'\n",
            "'phys lab 2.docx.gdoc'\n",
            "'phys pendulum.xlsx'\n",
            " \u001b[01;34mpics\u001b[0m/\n",
            " plate.dxf\n",
            " \u001b[01;34mResearch\u001b[0m/\n",
            "'Research Materials.gdoc'\n",
            "'Resume (1).gdoc'\n",
            " Resume.gdoc\n",
            "'RockSat-C Project Idea.gdoc'\n",
            " S20170615No3.txt\n",
            "'Screw Parts List.gdoc'\n",
            "'SPS Undergraduate Research Presentation.gslides'\n",
            "\u001b[01;34m'Summer Research 2018'\u001b[0m/\n",
            "'Swing Out + Variation lesson.gdoc'\n",
            " Team10_HW2.html\n",
            " Team10_HW2.pdf\n",
            "'Template - Business Model Canvas.gdraw'\n",
            " \u001b[01;34mtest_dir\u001b[0m/\n",
            "'Untitled Diagram.drawio'\n",
            "'Untitled Diagram.html'\n",
            "'Untitled document.gdoc'\n",
            "'Untitled form.gform'\n",
            " \u001b[01;34mWares\u001b[0m/\n",
            "'Wireshark Lab 3 - HTTP.gdoc'\n",
            "'Wireshark Lab 4.gdoc'\n",
            "'zbp16totals.zip?'\n"
          ],
          "name": "stdout"
        }
      ]
    },
    {
      "cell_type": "code",
      "metadata": {
        "id": "3a3No9nW5kPm",
        "colab_type": "code",
        "colab": {
          "base_uri": "https://localhost:8080/",
          "height": 34
        },
        "outputId": "8041504f-fdfd-4d9d-9a55-03ab1b7042d6"
      },
      "source": [
        "mv ./zbp16totals.zip\\? ./test_dir/"
      ],
      "execution_count": 9,
      "outputs": [
        {
          "output_type": "stream",
          "text": [
            "mv: cannot move './zbp16totals.zip?' to './test_dir/': Not a directory\n"
          ],
          "name": "stdout"
        }
      ]
    },
    {
      "cell_type": "code",
      "metadata": {
        "id": "JnG_IZ0-5so1",
        "colab_type": "code",
        "outputId": "c45acc6f-1332-4976-87e6-5754808c98e6",
        "colab": {
          "base_uri": "https://localhost:8080/",
          "height": 52
        }
      },
      "source": [
        "cd test_dir"
      ],
      "execution_count": 10,
      "outputs": [
        {
          "output_type": "stream",
          "text": [
            "[Errno 2] No such file or directory: 'test_dir'\n",
            "/content/drive/My Drive/test_dir\n"
          ],
          "name": "stdout"
        }
      ]
    },
    {
      "cell_type": "code",
      "metadata": {
        "id": "hFkc2irEH2ws",
        "colab_type": "code",
        "outputId": "acae9ec4-b54c-4fb2-a855-2f237264f9f9",
        "colab": {
          "base_uri": "https://localhost:8080/",
          "height": 104
        }
      },
      "source": [
        "!unzip zbp16totals.zip\\?"
      ],
      "execution_count": 11,
      "outputs": [
        {
          "output_type": "stream",
          "text": [
            "Archive:  zbp16totals.zip?\n",
            "replace zbp16totals.txt? [y]es, [n]o, [A]ll, [N]one, [r]ename: a\n",
            "error:  invalid response [a]\n",
            "replace zbp16totals.txt? [y]es, [n]o, [A]ll, [N]one, [r]ename: A\n",
            "  inflating: zbp16totals.txt         \n"
          ],
          "name": "stdout"
        }
      ]
    },
    {
      "cell_type": "code",
      "metadata": {
        "id": "0Y7kjJEUJerV",
        "colab_type": "code",
        "outputId": "999a751f-54e0-42eb-9afe-dbfe6e65e16f",
        "colab": {
          "base_uri": "https://localhost:8080/",
          "height": 34
        }
      },
      "source": [
        "ls"
      ],
      "execution_count": 34,
      "outputs": [
        {
          "output_type": "stream",
          "text": [
            "\u001b[0m\u001b[01;34mdrive\u001b[0m/  \u001b[01;34msample_data\u001b[0m/\n"
          ],
          "name": "stdout"
        }
      ]
    },
    {
      "cell_type": "code",
      "metadata": {
        "id": "-UYOkWXGJjtq",
        "colab_type": "code",
        "colab": {}
      },
      "source": [
        "import os"
      ],
      "execution_count": 0,
      "outputs": []
    },
    {
      "cell_type": "code",
      "metadata": {
        "id": "93hbVZZjR3Ey",
        "colab_type": "code",
        "colab": {
          "base_uri": "https://localhost:8080/",
          "height": 34
        },
        "outputId": "b7b05ec3-92d6-4f9c-e891-2f795f9acd41"
      },
      "source": [
        "cmd = \"ls drive/My\\ Drive/test_dir\"\n",
        "os.system(cmd)"
      ],
      "execution_count": 15,
      "outputs": [
        {
          "output_type": "execute_result",
          "data": {
            "text/plain": [
              "512"
            ]
          },
          "metadata": {
            "tags": []
          },
          "execution_count": 15
        }
      ]
    },
    {
      "cell_type": "code",
      "metadata": {
        "id": "aoHSXGzqSVF7",
        "colab_type": "code",
        "colab": {
          "base_uri": "https://localhost:8080/",
          "height": 34
        },
        "outputId": "5fdb5f58-2b9b-42d3-96d6-87cb8f1040f9"
      },
      "source": [
        "rm -r test_dir"
      ],
      "execution_count": 16,
      "outputs": [
        {
          "output_type": "stream",
          "text": [
            "rm: cannot remove 'test_dir': No such file or directory\n"
          ],
          "name": "stdout"
        }
      ]
    },
    {
      "cell_type": "code",
      "metadata": {
        "id": "mC45EN0PTBct",
        "colab_type": "code",
        "colab": {}
      },
      "source": [
        "import glob\n"
      ],
      "execution_count": 0,
      "outputs": []
    },
    {
      "cell_type": "code",
      "metadata": {
        "id": "sRZRRBooUnSz",
        "colab_type": "code",
        "colab": {
          "base_uri": "https://localhost:8080/",
          "height": 52
        },
        "outputId": "5cc0cb3f-166e-467e-c6e1-4b77940de48a"
      },
      "source": [
        "cd dsps2019"
      ],
      "execution_count": 53,
      "outputs": [
        {
          "output_type": "stream",
          "text": [
            "[Errno 2] No such file or directory: 'dsps2019'\n",
            "/content/drive/My Drive/dsps2019\n"
          ],
          "name": "stdout"
        }
      ]
    },
    {
      "cell_type": "code",
      "metadata": {
        "id": "vDZS3LUiaAUF",
        "colab_type": "code",
        "colab": {
          "base_uri": "https://localhost:8080/",
          "height": 34
        },
        "outputId": "dd0d5a99-57dc-4c13-a851-08f0bc3e57f2"
      },
      "source": [
        "os.system('date')"
      ],
      "execution_count": 6,
      "outputs": [
        {
          "output_type": "execute_result",
          "data": {
            "text/plain": [
              "0"
            ]
          },
          "metadata": {
            "tags": []
          },
          "execution_count": 6
        }
      ]
    },
    {
      "cell_type": "code",
      "metadata": {
        "id": "0RQx7ag1TDey",
        "colab_type": "code",
        "colab": {
          "base_uri": "https://localhost:8080/",
          "height": 625
        },
        "outputId": "7ec59cc7-9035-467b-bf79-a8227b0d7acc"
      },
      "source": [
        "path = \"drive/My Drive/dsps2019\"\n",
        "if len(glob.glob(path)) == 0:\n",
        "  os.system(\"mkdir -p drive/My\\ Drive/dsps2019\")\n",
        "for ii in range(10,15):\n",
        "  snum = str(ii)\n",
        "\n",
        "  cmd_wget = \"!wget https://www2.census.gov/programs-surveys/cbp/datasets/20\" + snum + \"/zbp\" + snum + \"detail.zip\"\n",
        "  \n",
        "  print(cmd_wget)\n",
        "\n",
        "  cmd_unzip = \"unzip  zbp\" + snum + \"detail.zip -d 'drive/My\\ Drive/dsps2019'\"  \n",
        "  \n",
        "  \n",
        "  print(\"downloading year 20{}\".format(snum))\n",
        "  \n",
        "  cmd_del = \"rm zbp\" + snum + \"detail.zip\"\n",
        "  \n",
        "  \n",
        "  res = os.system(cmd_wget)\n",
        "  if res != 0:\n",
        "    print(\"error \", res, \"with downloading\", ii)\n",
        "    \n",
        "  print(\"moving file...\")\n",
        "  res = os.system(cmd_unzip)\n",
        "  \n",
        "  if res != 0:\n",
        "    print(\"error \", res, \"with unzipping\", ii)\n",
        "  \n",
        "  print(\"deleting zip...\")\n",
        "  res = os.system(cmd_del)\n",
        "  \n",
        "  if res != 0:\n",
        "    print(\"error \", res, \"with removing file\", ii)"
      ],
      "execution_count": 17,
      "outputs": [
        {
          "output_type": "stream",
          "text": [
            "!wget https://www2.census.gov/programs-surveys/cbp/datasets/2010/zbp10detail.zip\n",
            "downloading year 2010\n",
            "error  32512 with downloading 10\n",
            "moving file...\n",
            "error  2304 with unzipping 10\n",
            "deleting zip...\n",
            "error  256 with removing file 10\n",
            "!wget https://www2.census.gov/programs-surveys/cbp/datasets/2011/zbp11detail.zip\n",
            "downloading year 2011\n",
            "error  32512 with downloading 11\n",
            "moving file...\n",
            "error  2304 with unzipping 11\n",
            "deleting zip...\n",
            "error  256 with removing file 11\n",
            "!wget https://www2.census.gov/programs-surveys/cbp/datasets/2012/zbp12detail.zip\n",
            "downloading year 2012\n",
            "error  32512 with downloading 12\n",
            "moving file...\n",
            "error  2304 with unzipping 12\n",
            "deleting zip...\n",
            "error  256 with removing file 12\n",
            "!wget https://www2.census.gov/programs-surveys/cbp/datasets/2013/zbp13detail.zip\n",
            "downloading year 2013\n",
            "error  32512 with downloading 13\n",
            "moving file...\n",
            "error  2304 with unzipping 13\n",
            "deleting zip...\n",
            "error  256 with removing file 13\n",
            "!wget https://www2.census.gov/programs-surveys/cbp/datasets/2014/zbp14detail.zip\n",
            "downloading year 2014\n",
            "error  32512 with downloading 14\n",
            "moving file...\n",
            "error  2304 with unzipping 14\n",
            "deleting zip...\n",
            "error  256 with removing file 14\n"
          ],
          "name": "stdout"
        }
      ]
    },
    {
      "cell_type": "code",
      "metadata": {
        "id": "qwKN52LiVeQt",
        "colab_type": "code",
        "colab": {
          "base_uri": "https://localhost:8080/",
          "height": 34
        },
        "outputId": "1a38bd70-0c5f-4d4a-b705-c1404c2a205d"
      },
      "source": [
        "cd .."
      ],
      "execution_count": 23,
      "outputs": [
        {
          "output_type": "stream",
          "text": [
            "\u001b[0m\u001b[01;34mdrive\u001b[0m/  \u001b[01;34msample_data\u001b[0m/\n"
          ],
          "name": "stdout"
        }
      ]
    },
    {
      "cell_type": "code",
      "metadata": {
        "id": "29QJtlF2W1p3",
        "colab_type": "code",
        "colab": {}
      },
      "source": [
        ""
      ],
      "execution_count": 0,
      "outputs": []
    }
  ]
}