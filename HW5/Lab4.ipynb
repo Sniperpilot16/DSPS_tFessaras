{
  "nbformat": 4,
  "nbformat_minor": 0,
  "metadata": {
    "colab": {
      "name": "Lab4.ipynb",
      "provenance": [],
      "collapsed_sections": [],
      "include_colab_link": true
    },
    "kernelspec": {
      "name": "python3",
      "display_name": "Python 3"
    }
  },
  "cells": [
    {
      "cell_type": "markdown",
      "metadata": {
        "id": "view-in-github",
        "colab_type": "text"
      },
      "source": [
        "<a href=\"https://colab.research.google.com/github/TedFess/DSPS_tFessaras/blob/master/HW5/Lab4.ipynb\" target=\"_parent\"><img src=\"https://colab.research.google.com/assets/colab-badge.svg\" alt=\"Open In Colab\"/></a>"
      ]
    },
    {
      "cell_type": "code",
      "metadata": {
        "id": "bcOuYeB02mOC",
        "colab_type": "code",
        "outputId": "c6ce3b31-c9f3-4daa-dbf7-f8e4f7b74d19",
        "colab": {
          "base_uri": "https://localhost:8080/",
          "height": 124
        }
      },
      "source": [
        "from google.colab import drive\n",
        "drive.mount(\"/content/drive\")"
      ],
      "execution_count": 1,
      "outputs": [
        {
          "output_type": "stream",
          "text": [
            "Go to this URL in a browser: https://accounts.google.com/o/oauth2/auth?client_id=947318989803-6bn6qk8qdgf4n4g3pfee6491hc0brc4i.apps.googleusercontent.com&redirect_uri=urn%3Aietf%3Awg%3Aoauth%3A2.0%3Aoob&scope=email%20https%3A%2F%2Fwww.googleapis.com%2Fauth%2Fdocs.test%20https%3A%2F%2Fwww.googleapis.com%2Fauth%2Fdrive%20https%3A%2F%2Fwww.googleapis.com%2Fauth%2Fdrive.photos.readonly%20https%3A%2F%2Fwww.googleapis.com%2Fauth%2Fpeopleapi.readonly&response_type=code\n",
            "\n",
            "Enter your authorization code:\n",
            "··········\n",
            "Mounted at /content/drive\n"
          ],
          "name": "stdout"
        }
      ]
    },
    {
      "cell_type": "code",
      "metadata": {
        "id": "bSXxxaYF3Ry7",
        "colab_type": "code",
        "outputId": "960c15fd-68f9-4907-9378-6081ba58f25e",
        "colab": {
          "base_uri": "https://localhost:8080/",
          "height": 34
        }
      },
      "source": [
        "ls "
      ],
      "execution_count": 2,
      "outputs": [
        {
          "output_type": "stream",
          "text": [
            "\u001b[0m\u001b[01;34mdrive\u001b[0m/  \u001b[01;34msample_data\u001b[0m/\n"
          ],
          "name": "stdout"
        }
      ]
    },
    {
      "cell_type": "code",
      "metadata": {
        "id": "Mw5KnGky3m11",
        "colab_type": "code",
        "outputId": "e9c9b510-51bc-4a1f-afe0-e46820016ea3",
        "colab": {
          "base_uri": "https://localhost:8080/",
          "height": 34
        }
      },
      "source": [
        "ls drive"
      ],
      "execution_count": 3,
      "outputs": [
        {
          "output_type": "stream",
          "text": [
            "\u001b[0m\u001b[01;34m'My Drive'\u001b[0m/  \u001b[01;34m'Shared drives'\u001b[0m/\n"
          ],
          "name": "stdout"
        }
      ]
    },
    {
      "cell_type": "code",
      "metadata": {
        "id": "w5uGdUtv3qqa",
        "colab_type": "code",
        "outputId": "eb08d883-ecec-4925-e211-6f14171d136a",
        "colab": {
          "base_uri": "https://localhost:8080/",
          "height": 1000
        }
      },
      "source": [
        "ls \"drive/My Drive\""
      ],
      "execution_count": 4,
      "outputs": [
        {
          "output_type": "stream",
          "text": [
            " 20180425_225732.mp4\n",
            " 20180706_133020.mp4\n",
            " 20190522_174058.mp4\n",
            "\u001b[0m\u001b[01;34m'Colab Notebooks'\u001b[0m/\n",
            "'compatator 324.drawio'\n",
            " Controller.drawio\n",
            "'CPEG324: ISA Design and Benchmark [Lab 1].gdoc'\n",
            "'CPEG457: Assignment 2.gdoc'\n",
            "'CPEG457: Assignment One.gdoc'\n",
            " CPEG471-Lab5.gdoc\n",
            "'Cyber Hw 2.gdoc'\n",
            " \u001b[01;34mdonkey\u001b[0m/\n",
            "\u001b[01;34m'drupal vm'\u001b[0m/\n",
            " DSPS_HW2_2.ipynb\n",
            "\u001b[01;34m'ELEG 205 Lab 2019'\u001b[0m/\n",
            "'ELEG298 CPEG298 Final Project Report.gdoc'\n",
            "'ELEG305 Computer Assignment 2.gdoc'\n",
            "'ENTR Survey.gform'\n",
            " \u001b[01;34mFessaras_Theodore2018F\u001b[0m/\n",
            "'Getting started.pdf'\n",
            "'homework 7.docx'\n",
            "\u001b[01;34m'Lab 10'\u001b[0m/\n",
            "'Lab 10.gdoc'\n",
            "\u001b[01;34m'Lab 1 Phys 208'\u001b[0m/\n",
            "'Lab 1 Physics 208.gdoc'\n",
            "'Lab 3: Calculator ISA Design.gslides'\n",
            "'Lab 3 - Capacitance.gdoc'\n",
            "\u001b[01;34m'Lab 4-5'\u001b[0m/\n",
            " Lab4-RevEng.gdoc\n",
            "\u001b[01;34m'Lab 6'\u001b[0m/\n",
            "\u001b[01;34m'Lab 8'\u001b[0m/\n",
            "'Lab 8 Magnetostatics II.gdoc'\n",
            "\u001b[01;34m'Lab 9'\u001b[0m/\n",
            "'Lab 9 Induction.gdoc'\n",
            " legs.dxf\n",
            " \u001b[01;34mlulzbot\u001b[0m/\n",
            " Mid-Project-Demo1_TEAM10.html\n",
            "'Mt. Cuba Trip form 10 22 18.gform'\n",
            "'MUSC 101-FINAL PROJECT_Medium.mp4'\n",
            "\u001b[01;34m'music project'\u001b[0m/\n",
            "\u001b[01;34m'New folder'\u001b[0m/\n",
            "'PHYS HW 5.gdoc'\n",
            "'Physics Lab 3.gdoc'\n",
            "'Physics Lab 4.gdoc'\n",
            "'Physics Lab 5.gdoc'\n",
            "'phys lab 2.docx'\n",
            "'phys lab 2.docx.gdoc'\n",
            "'phys pendulum.xlsx'\n",
            " \u001b[01;34mpics\u001b[0m/\n",
            " plate.dxf\n",
            " \u001b[01;34mResearch\u001b[0m/\n",
            "'Research Materials.gdoc'\n",
            "'Resume (1).gdoc'\n",
            " Resume.gdoc\n",
            "'RockSat-C Project Idea.gdoc'\n",
            " S20170615No3.txt\n",
            "'Screw Parts List.gdoc'\n",
            "'SPS Undergraduate Research Presentation.gslides'\n",
            "\u001b[01;34m'Summer Research 2018'\u001b[0m/\n",
            "'Swing Out + Variation lesson.gdoc'\n",
            " Team10_HW2.html\n",
            " Team10_HW2.pdf\n",
            "'Template - Business Model Canvas.gdraw'\n",
            " \u001b[01;34mtest_dir\u001b[0m/\n",
            "'Untitled Diagram.drawio'\n",
            "'Untitled Diagram.html'\n",
            "'Untitled document.gdoc'\n",
            "'Untitled form.gform'\n",
            " \u001b[01;34mWares\u001b[0m/\n",
            "'Wireshark Lab 3 - HTTP.gdoc'\n",
            "'Wireshark Lab 4.gdoc'\n"
          ],
          "name": "stdout"
        }
      ]
    },
    {
      "cell_type": "code",
      "metadata": {
        "id": "zgN4Qyxh3uKV",
        "colab_type": "code",
        "outputId": "7551defe-0ee0-4c97-e8e9-5568248591ca",
        "colab": {
          "base_uri": "https://localhost:8080/",
          "height": 34
        }
      },
      "source": [
        "cd \"drive/My Drive\""
      ],
      "execution_count": 5,
      "outputs": [
        {
          "output_type": "stream",
          "text": [
            "/content/drive/My Drive\n"
          ],
          "name": "stdout"
        }
      ]
    },
    {
      "cell_type": "code",
      "metadata": {
        "id": "WV_yYuXq4q2y",
        "colab_type": "code",
        "colab": {
          "base_uri": "https://localhost:8080/",
          "height": 34
        },
        "outputId": "d115806b-1933-48d1-acaf-279d210323c2"
      },
      "source": [
        "mkdir test_dir"
      ],
      "execution_count": 6,
      "outputs": [
        {
          "output_type": "stream",
          "text": [
            "mkdir: cannot create directory ‘test_dir’: File exists\n"
          ],
          "name": "stdout"
        }
      ]
    },
    {
      "cell_type": "code",
      "metadata": {
        "id": "eD5_6fi14toj",
        "colab_type": "code",
        "colab": {
          "base_uri": "https://localhost:8080/",
          "height": 34
        },
        "outputId": "db5fa909-c63d-41c1-c5e2-d7684a115654"
      },
      "source": [
        "mv ./Team10_HW2.jpg ./test_dir"
      ],
      "execution_count": 7,
      "outputs": [
        {
          "output_type": "stream",
          "text": [
            "mv: cannot stat './Team10_HW2.jpg': No such file or directory\n"
          ],
          "name": "stdout"
        }
      ]
    },
    {
      "cell_type": "code",
      "metadata": {
        "id": "yjJNcFwF4_pD",
        "colab_type": "code",
        "outputId": "670261b8-52b5-459a-e2d9-18c04485da26",
        "colab": {
          "base_uri": "https://localhost:8080/",
          "height": 34
        }
      },
      "source": [
        "cd test_dir/"
      ],
      "execution_count": 8,
      "outputs": [
        {
          "output_type": "stream",
          "text": [
            "/content/drive/My Drive/test_dir\n"
          ],
          "name": "stdout"
        }
      ]
    },
    {
      "cell_type": "code",
      "metadata": {
        "id": "dDua67ry5Bgt",
        "colab_type": "code",
        "outputId": "e5b37d9e-93a3-493e-b903-fd6c973e5f81",
        "colab": {
          "base_uri": "https://localhost:8080/",
          "height": 34
        }
      },
      "source": [
        "ls\n"
      ],
      "execution_count": 9,
      "outputs": [
        {
          "output_type": "stream",
          "text": [
            " Team10_HW2.jpg  'zbp16totals.zip?'\n"
          ],
          "name": "stdout"
        }
      ]
    },
    {
      "cell_type": "code",
      "metadata": {
        "id": "dTlbt-Ma5CBD",
        "colab_type": "code",
        "outputId": "7c5d191b-d6c8-42ba-b2e4-9434b2f4e0f0",
        "colab": {
          "base_uri": "https://localhost:8080/",
          "height": 34
        }
      },
      "source": [
        "cd .."
      ],
      "execution_count": 10,
      "outputs": [
        {
          "output_type": "stream",
          "text": [
            "/content/drive/My Drive\n"
          ],
          "name": "stdout"
        }
      ]
    },
    {
      "cell_type": "code",
      "metadata": {
        "id": "LrHOXVWE5DFj",
        "colab_type": "code",
        "outputId": "542070e8-0fa4-46c8-a279-ef281ccda4cf",
        "colab": {
          "base_uri": "https://localhost:8080/",
          "height": 208
        }
      },
      "source": [
        "!wget \"https://www2.census.gov/programs-surveys/cbp/datasets/2016/zbp16totals.zip?#\""
      ],
      "execution_count": 11,
      "outputs": [
        {
          "output_type": "stream",
          "text": [
            "--2019-09-25 20:30:08--  https://www2.census.gov/programs-surveys/cbp/datasets/2016/zbp16totals.zip?\n",
            "Resolving www2.census.gov (www2.census.gov)... 184.27.28.80, 2600:1406:3c:387::208c, 2600:1406:3c:39b::208c\n",
            "Connecting to www2.census.gov (www2.census.gov)|184.27.28.80|:443... connected.\n",
            "HTTP request sent, awaiting response... 200 OK\n",
            "Length: unspecified [application/zip]\n",
            "Saving to: ‘zbp16totals.zip?’\n",
            "\n",
            "zbp16totals.zip?        [  <=>               ] 750.30K  3.60MB/s    in 0.2s    \n",
            "\n",
            "2019-09-25 20:30:09 (3.60 MB/s) - ‘zbp16totals.zip?’ saved [768303]\n",
            "\n"
          ],
          "name": "stdout"
        }
      ]
    },
    {
      "cell_type": "code",
      "metadata": {
        "id": "TkgSACmj5dTl",
        "colab_type": "code",
        "outputId": "15b945ba-450e-4942-d995-178a5bf847fc",
        "colab": {
          "base_uri": "https://localhost:8080/",
          "height": 1000
        }
      },
      "source": [
        "ls"
      ],
      "execution_count": 12,
      "outputs": [
        {
          "output_type": "stream",
          "text": [
            " 20180425_225732.mp4\n",
            " 20180706_133020.mp4\n",
            " 20190522_174058.mp4\n",
            "\u001b[0m\u001b[01;34m'Colab Notebooks'\u001b[0m/\n",
            "'compatator 324.drawio'\n",
            " Controller.drawio\n",
            "'CPEG324: ISA Design and Benchmark [Lab 1].gdoc'\n",
            "'CPEG457: Assignment 2.gdoc'\n",
            "'CPEG457: Assignment One.gdoc'\n",
            " CPEG471-Lab5.gdoc\n",
            "'Cyber Hw 2.gdoc'\n",
            " \u001b[01;34mdonkey\u001b[0m/\n",
            "\u001b[01;34m'drupal vm'\u001b[0m/\n",
            " DSPS_HW2_2.ipynb\n",
            "\u001b[01;34m'ELEG 205 Lab 2019'\u001b[0m/\n",
            "'ELEG298 CPEG298 Final Project Report.gdoc'\n",
            "'ELEG305 Computer Assignment 2.gdoc'\n",
            "'ENTR Survey.gform'\n",
            " \u001b[01;34mFessaras_Theodore2018F\u001b[0m/\n",
            "'Getting started.pdf'\n",
            "'homework 7.docx'\n",
            "\u001b[01;34m'Lab 10'\u001b[0m/\n",
            "'Lab 10.gdoc'\n",
            "\u001b[01;34m'Lab 1 Phys 208'\u001b[0m/\n",
            "'Lab 1 Physics 208.gdoc'\n",
            "'Lab 3: Calculator ISA Design.gslides'\n",
            "'Lab 3 - Capacitance.gdoc'\n",
            "\u001b[01;34m'Lab 4-5'\u001b[0m/\n",
            " Lab4-RevEng.gdoc\n",
            "\u001b[01;34m'Lab 6'\u001b[0m/\n",
            "\u001b[01;34m'Lab 8'\u001b[0m/\n",
            "'Lab 8 Magnetostatics II.gdoc'\n",
            "\u001b[01;34m'Lab 9'\u001b[0m/\n",
            "'Lab 9 Induction.gdoc'\n",
            " legs.dxf\n",
            " \u001b[01;34mlulzbot\u001b[0m/\n",
            " Mid-Project-Demo1_TEAM10.html\n",
            "'Mt. Cuba Trip form 10 22 18.gform'\n",
            "'MUSC 101-FINAL PROJECT_Medium.mp4'\n",
            "\u001b[01;34m'music project'\u001b[0m/\n",
            "\u001b[01;34m'New folder'\u001b[0m/\n",
            "'PHYS HW 5.gdoc'\n",
            "'Physics Lab 3.gdoc'\n",
            "'Physics Lab 4.gdoc'\n",
            "'Physics Lab 5.gdoc'\n",
            "'phys lab 2.docx'\n",
            "'phys lab 2.docx.gdoc'\n",
            "'phys pendulum.xlsx'\n",
            " \u001b[01;34mpics\u001b[0m/\n",
            " plate.dxf\n",
            " \u001b[01;34mResearch\u001b[0m/\n",
            "'Research Materials.gdoc'\n",
            "'Resume (1).gdoc'\n",
            " Resume.gdoc\n",
            "'RockSat-C Project Idea.gdoc'\n",
            " S20170615No3.txt\n",
            "'Screw Parts List.gdoc'\n",
            "'SPS Undergraduate Research Presentation.gslides'\n",
            "\u001b[01;34m'Summer Research 2018'\u001b[0m/\n",
            "'Swing Out + Variation lesson.gdoc'\n",
            " Team10_HW2.html\n",
            " Team10_HW2.pdf\n",
            "'Template - Business Model Canvas.gdraw'\n",
            " \u001b[01;34mtest_dir\u001b[0m/\n",
            "'Untitled Diagram.drawio'\n",
            "'Untitled Diagram.html'\n",
            "'Untitled document.gdoc'\n",
            "'Untitled form.gform'\n",
            " \u001b[01;34mWares\u001b[0m/\n",
            "'Wireshark Lab 3 - HTTP.gdoc'\n",
            "'Wireshark Lab 4.gdoc'\n",
            "'zbp16totals.zip?'\n"
          ],
          "name": "stdout"
        }
      ]
    },
    {
      "cell_type": "code",
      "metadata": {
        "id": "3a3No9nW5kPm",
        "colab_type": "code",
        "colab": {}
      },
      "source": [
        "mv ./zbp16totals.zip\\? ./test_dir/"
      ],
      "execution_count": 0,
      "outputs": []
    },
    {
      "cell_type": "code",
      "metadata": {
        "id": "Z7iS6xVO5pbv",
        "colab_type": "code",
        "outputId": "ad223d47-358c-41f2-c343-4930fb6c82df",
        "colab": {
          "base_uri": "https://localhost:8080/",
          "height": 1000
        }
      },
      "source": [
        "ls"
      ],
      "execution_count": 14,
      "outputs": [
        {
          "output_type": "stream",
          "text": [
            " 20180425_225732.mp4\n",
            " 20180706_133020.mp4\n",
            " 20190522_174058.mp4\n",
            "\u001b[0m\u001b[01;34m'Colab Notebooks'\u001b[0m/\n",
            "'compatator 324.drawio'\n",
            " Controller.drawio\n",
            "'CPEG324: ISA Design and Benchmark [Lab 1].gdoc'\n",
            "'CPEG457: Assignment 2.gdoc'\n",
            "'CPEG457: Assignment One.gdoc'\n",
            " CPEG471-Lab5.gdoc\n",
            "'Cyber Hw 2.gdoc'\n",
            " \u001b[01;34mdonkey\u001b[0m/\n",
            "\u001b[01;34m'drupal vm'\u001b[0m/\n",
            " DSPS_HW2_2.ipynb\n",
            "\u001b[01;34m'ELEG 205 Lab 2019'\u001b[0m/\n",
            "'ELEG298 CPEG298 Final Project Report.gdoc'\n",
            "'ELEG305 Computer Assignment 2.gdoc'\n",
            "'ENTR Survey.gform'\n",
            " \u001b[01;34mFessaras_Theodore2018F\u001b[0m/\n",
            "'Getting started.pdf'\n",
            "'homework 7.docx'\n",
            "\u001b[01;34m'Lab 10'\u001b[0m/\n",
            "'Lab 10.gdoc'\n",
            "\u001b[01;34m'Lab 1 Phys 208'\u001b[0m/\n",
            "'Lab 1 Physics 208.gdoc'\n",
            "'Lab 3: Calculator ISA Design.gslides'\n",
            "'Lab 3 - Capacitance.gdoc'\n",
            "\u001b[01;34m'Lab 4-5'\u001b[0m/\n",
            " Lab4-RevEng.gdoc\n",
            "\u001b[01;34m'Lab 6'\u001b[0m/\n",
            "\u001b[01;34m'Lab 8'\u001b[0m/\n",
            "'Lab 8 Magnetostatics II.gdoc'\n",
            "\u001b[01;34m'Lab 9'\u001b[0m/\n",
            "'Lab 9 Induction.gdoc'\n",
            " legs.dxf\n",
            " \u001b[01;34mlulzbot\u001b[0m/\n",
            " Mid-Project-Demo1_TEAM10.html\n",
            "'Mt. Cuba Trip form 10 22 18.gform'\n",
            "'MUSC 101-FINAL PROJECT_Medium.mp4'\n",
            "\u001b[01;34m'music project'\u001b[0m/\n",
            "\u001b[01;34m'New folder'\u001b[0m/\n",
            "'PHYS HW 5.gdoc'\n",
            "'Physics Lab 3.gdoc'\n",
            "'Physics Lab 4.gdoc'\n",
            "'Physics Lab 5.gdoc'\n",
            "'phys lab 2.docx'\n",
            "'phys lab 2.docx.gdoc'\n",
            "'phys pendulum.xlsx'\n",
            " \u001b[01;34mpics\u001b[0m/\n",
            " plate.dxf\n",
            " \u001b[01;34mResearch\u001b[0m/\n",
            "'Research Materials.gdoc'\n",
            "'Resume (1).gdoc'\n",
            " Resume.gdoc\n",
            "'RockSat-C Project Idea.gdoc'\n",
            " S20170615No3.txt\n",
            "'Screw Parts List.gdoc'\n",
            "'SPS Undergraduate Research Presentation.gslides'\n",
            "\u001b[01;34m'Summer Research 2018'\u001b[0m/\n",
            "'Swing Out + Variation lesson.gdoc'\n",
            " Team10_HW2.html\n",
            " Team10_HW2.pdf\n",
            "'Template - Business Model Canvas.gdraw'\n",
            " \u001b[01;34mtest_dir\u001b[0m/\n",
            "'Untitled Diagram.drawio'\n",
            "'Untitled Diagram.html'\n",
            "'Untitled document.gdoc'\n",
            "'Untitled form.gform'\n",
            " \u001b[01;34mWares\u001b[0m/\n",
            "'Wireshark Lab 3 - HTTP.gdoc'\n",
            "'Wireshark Lab 4.gdoc'\n"
          ],
          "name": "stdout"
        }
      ]
    },
    {
      "cell_type": "code",
      "metadata": {
        "id": "JnG_IZ0-5so1",
        "colab_type": "code",
        "colab": {
          "base_uri": "https://localhost:8080/",
          "height": 34
        },
        "outputId": "a305ce7e-ffd6-4bbf-e7e4-385e030c110b"
      },
      "source": [
        "cd test_dir"
      ],
      "execution_count": 15,
      "outputs": [
        {
          "output_type": "stream",
          "text": [
            "/content/drive/My Drive/test_dir\n"
          ],
          "name": "stdout"
        }
      ]
    },
    {
      "cell_type": "code",
      "metadata": {
        "id": "hFkc2irEH2ws",
        "colab_type": "code",
        "colab": {
          "base_uri": "https://localhost:8080/",
          "height": 52
        },
        "outputId": "83d80454-fda7-4e2d-f92c-0d1740a2b9b2"
      },
      "source": [
        "!unzip zbp16totals.zip\\?"
      ],
      "execution_count": 26,
      "outputs": [
        {
          "output_type": "stream",
          "text": [
            "Archive:  zbp16totals.zip?\n",
            "  inflating: zbp16totals.txt         \n"
          ],
          "name": "stdout"
        }
      ]
    },
    {
      "cell_type": "code",
      "metadata": {
        "id": "0Y7kjJEUJerV",
        "colab_type": "code",
        "colab": {
          "base_uri": "https://localhost:8080/",
          "height": 34
        },
        "outputId": "fb8b3960-1def-48ed-c216-b60b1436d659"
      },
      "source": [
        "ls"
      ],
      "execution_count": 27,
      "outputs": [
        {
          "output_type": "stream",
          "text": [
            " zbp16totals.txt  'zbp16totals.zip?'\n"
          ],
          "name": "stdout"
        }
      ]
    },
    {
      "cell_type": "code",
      "metadata": {
        "id": "-UYOkWXGJjtq",
        "colab_type": "code",
        "colab": {}
      },
      "source": [
        ""
      ],
      "execution_count": 0,
      "outputs": []
    }
  ]
}