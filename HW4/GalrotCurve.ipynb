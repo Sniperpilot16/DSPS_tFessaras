{
  "nbformat": 4,
  "nbformat_minor": 0,
  "metadata": {
    "kernelspec": {
      "display_name": "Python 3",
      "language": "python",
      "name": "python3"
    },
    "language_info": {
      "codemirror_mode": {
        "name": "ipython",
        "version": 3
      },
      "file_extension": ".py",
      "mimetype": "text/x-python",
      "name": "python",
      "nbconvert_exporter": "python",
      "pygments_lexer": "ipython3",
      "version": "3.6.7"
    },
    "nbTranslate": {
      "displayLangs": [
        "*"
      ],
      "hotkey": "alt-t",
      "langInMainMenu": true,
      "sourceLang": "en",
      "targetLang": "fr",
      "useGoogleTranslate": true
    },
    "toc": {
      "base_numbering": 1,
      "colors": {
        "hover_highlight": "#DAA520",
        "running_highlight": "#FF0000",
        "selected_highlight": "#FFD700"
      },
      "moveMenuLeft": true,
      "nav_menu": {},
      "navigate_menu": true,
      "number_sections": true,
      "sideBar": true,
      "skip_h1_title": false,
      "threshold": 4,
      "title_cell": "Table of Contents",
      "title_sidebar": "Contents",
      "toc_cell": false,
      "toc_position": {
        "height": "calc(100% - 180px)",
        "left": "10px",
        "top": "150px",
        "width": "165px"
      },
      "toc_section_display": true,
      "toc_window_display": true
    },
    "colab": {
      "name": "GalrotCurve.ipynb",
      "provenance": [],
      "collapsed_sections": [
        "6me5k4c1OdDY"
      ],
      "include_colab_link": true
    }
  },
  "cells": [
    {
      "cell_type": "markdown",
      "metadata": {
        "id": "view-in-github",
        "colab_type": "text"
      },
      "source": [
        "<a href=\"https://colab.research.google.com/github/TedFess/DSPS_tFessaras/blob/master/HW4/GalrotCurve.ipynb\" target=\"_parent\"><img src=\"https://colab.research.google.com/assets/colab-badge.svg\" alt=\"Open In Colab\"/></a>"
      ]
    },
    {
      "cell_type": "markdown",
      "metadata": {
        "run_control": {
          "frozen": false,
          "read_only": false
        },
        "id": "rxa6Xa3jOdCI",
        "colab_type": "text"
      },
      "source": [
        "prepared by federica b bianco @fedhere\n",
        "for UDel DSPS PHYS 467/667\n",
        "\n",
        "# testing the significance of Dark Matter"
      ]
    },
    {
      "cell_type": "code",
      "metadata": {
        "ExecuteTime": {
          "end_time": "2019-09-16T17:54:57.244596Z",
          "start_time": "2019-09-16T17:54:57.231090Z"
        },
        "run_control": {
          "frozen": false,
          "read_only": false
        },
        "id": "Ya2RaOGbOdCJ",
        "colab_type": "code",
        "outputId": "57a2ccdb-17cc-42c9-9e68-6bf87d1e3e99",
        "colab": {
          "base_uri": "https://localhost:8080/",
          "height": 34
        }
      },
      "source": [
        "import pandas as pd\n",
        "import numpy as np\n",
        "import pylab as pl\n",
        "%pylab inline\n",
        "\n",
        "\n",
        "#package I will use for constants and units conversion \n",
        "import astropy\n",
        "\n"
      ],
      "execution_count": 0,
      "outputs": [
        {
          "output_type": "stream",
          "text": [
            "Populating the interactive namespace from numpy and matplotlib\n"
          ],
          "name": "stdout"
        }
      ]
    },
    {
      "cell_type": "markdown",
      "metadata": {
        "id": "4qp8A2TG1Gwb",
        "colab_type": "text"
      },
      "source": [
        "In 1970 Vera Rubin published a seminal paper: she measured the rotational speed of HII regions in several galaxies and how it changed as a function of distance to the center of the galaxy. If we believe Newtonian gravity (or GR) we expect that _once all of the mass is included_, i.e. at a radius distance from the center of the galaxy larger than the radius of the galaxy itself, the rotational speed will be proportional to $v\\propto\\frac{1}/{r}$"
      ]
    },
    {
      "cell_type": "markdown",
      "metadata": {
        "run_control": {
          "frozen": false,
          "read_only": false
        },
        "id": "j-BDrNseOdCR",
        "colab_type": "text"
      },
      "source": [
        "## Propagation of  uncertainties rules\n",
        "\n",
        "below are the basic rules for propagation of uncertainties - use [this as reference](https://github.com/fedhere/DSPS/blob/master/resources/Managing%20Errors%20and%20Uncertainty.pdf)"
      ]
    },
    {
      "cell_type": "markdown",
      "metadata": {
        "id": "iCrFipBzOzqp",
        "colab_type": "text"
      },
      "source": [
        "\n",
        "\n",
        "\n",
        "$$\n",
        "\\begin{eqnarray}\n",
        "z = x  \\pm y  ~| & ~  &dz = \\sqrt{dx^2 + dy^2} \n",
        "\\\\\n",
        "z = x * y  ~| & ~& dz = |xy|  \\sqrt{\\left(\\frac{dx}{x}\\right)^2 + \n",
        "                                \\left(\\frac{dy}{y}\\right)^2} \\\\\n",
        "z = x / y  ~| & ~& dz = \\left|\\frac{x}{y}\\right| \\sqrt{\\left(\\frac{dx}{x}\\right)^2 + \n",
        "                                                   \\left(\\frac{dy}{y}\\right)^2} \\\\\n",
        "z = x^n ~| & ~& dz = |n| ~ x^{n-1}  dx \\\\\n",
        "z = \\mathrm{c}x ~| & ~& dz = |\\mathrm{c}| ~dx \\\\\n",
        "z = f(x, y) ~| & ~& dz = \\sqrt{\\left(\\frac{\\partial f}{\\partial x}\\right)^2 dx^2 +\\left(\\frac{\\partial f}{\\partial y}\\right)^2 dy^2} \\\\\n",
        "\\end{eqnarray}\n",
        "$$\n"
      ]
    },
    {
      "cell_type": "markdown",
      "metadata": {
        "run_control": {
          "frozen": false,
          "read_only": false
        },
        "id": "WcF0zlWCOdCX",
        "colab_type": "text"
      },
      "source": [
        "# let's assume a Newtonian framework: \n",
        "the velocity of a body in orbit depends only on the gravitational field of the mass that attracts it, and we can assume that mass is concentrated in the center of mass of (the center for simplicity) the system\n",
        "\n",
        "with G the gravitational constant, $r$ the radius, and $m(r)$ the mass contained within that radius we have the orbital velocity $v$:\n"
      ]
    },
    {
      "cell_type": "markdown",
      "metadata": {
        "id": "ZON0DKl5Qm2S",
        "colab_type": "text"
      },
      "source": [
        "\n",
        "$v^2 = \\frac{G \\cdot m(r)}{r}$\n"
      ]
    },
    {
      "cell_type": "markdown",
      "metadata": {
        "id": "lVfy9lJ21xMT",
        "colab_type": "text"
      },
      "source": [
        "Derive this $v^2\\propto\\frac{1}{r}$ from Newron's law $F~=~\\frac{GMm}{r^2}$. Write each formula and describe each step. You can use latex (you really just need to know ```\\frac{}``` and ```^```) and this reference\n",
        "https://www.physicsclassroom.com/calcpad/circgrav"
      ]
    },
    {
      "cell_type": "markdown",
      "metadata": {
        "id": "HEB7hQojuAQt",
        "colab_type": "text"
      },
      "source": [
        "$\n",
        "F = GMm / r^2\n",
        "$\n",
        "\n",
        "$\n",
        "F = Mv^2 / r\n",
        "$\n",
        "\n",
        "$\n",
        "GMm/r^2 = Mv^2 / r\n",
        "$\n",
        "\n",
        "$\n",
        "v =  \\sqrt{(G*m)/r}\n",
        "$\n",
        "\n",
        "Therefore $v^2\\propto\\frac{1}{r}$"
      ]
    },
    {
      "cell_type": "markdown",
      "metadata": {
        "run_control": {
          "frozen": false,
          "read_only": false
        },
        "id": "KQAEJtWuOdCb",
        "colab_type": "text"
      },
      "source": [
        "## M31 rotational curve"
      ]
    },
    {
      "cell_type": "markdown",
      "metadata": {
        "ExecuteTime": {
          "end_time": "2019-08-02T01:34:15.029084Z",
          "start_time": "2019-08-02T01:34:15.026604Z"
        },
        "run_control": {
          "frozen": false,
          "read_only": false
        },
        "id": "BTaXzFYeOdCc",
        "colab_type": "text"
      },
      "source": [
        "### data ingestion\n",
        "( I store the [original paper](http://articles.adsabs.harvard.edu//full/1970ApJ...159..379R/0000399.000.html) as a link on another computer now I have to find it again :-( - sorry I will updat the reference )\n",
        "\n",
        "Get the data from the github repository https://github.com/fedhere/DSPS/tree/master/HW4 : there are 2 files: mw.csv and m31.csv. Start with M31, the Andromeda galaxy, Vera Rubin's original target."
      ]
    },
    {
      "cell_type": "markdown",
      "metadata": {
        "id": "_iFrkUYEV1SS",
        "colab_type": "text"
      },
      "source": [
        "Note that the data contains 2 types of uncertainties: one significantly smaller than the other. The ```dv``` uncertainty is the propagation of the uncertainty in the location of the HII line. The uncertainty called ```err``` if the full error budget:  including _all_ sources of uncertainty and not just the uncertainty in measuring the location of the line. Retain both, you will test your hypothesis with each one to see if it matters which uncertainty you choose"
      ]
    },
    {
      "cell_type": "code",
      "metadata": {
        "id": "PFYBlhUjt8_e",
        "colab_type": "code",
        "colab": {}
      },
      "source": [
        "m31 = pd.read_csv('https://raw.githubusercontent.com/fedhere/DSPS/master/HW4/m31.csv', header = 1)"
      ],
      "execution_count": 0,
      "outputs": []
    },
    {
      "cell_type": "code",
      "metadata": {
        "id": "luL5UrsNQ1M1",
        "colab_type": "code",
        "outputId": "d0374192-ce32-4643-a115-d81ca165aca1",
        "colab": {
          "base_uri": "https://localhost:8080/",
          "height": 206
        }
      },
      "source": [
        "\n",
        "m31.head()"
      ],
      "execution_count": 0,
      "outputs": [
        {
          "output_type": "execute_result",
          "data": {
            "text/html": [
              "<div>\n",
              "<style scoped>\n",
              "    .dataframe tbody tr th:only-of-type {\n",
              "        vertical-align: middle;\n",
              "    }\n",
              "\n",
              "    .dataframe tbody tr th {\n",
              "        vertical-align: top;\n",
              "    }\n",
              "\n",
              "    .dataframe thead th {\n",
              "        text-align: right;\n",
              "    }\n",
              "</style>\n",
              "<table border=\"1\" class=\"dataframe\">\n",
              "  <thead>\n",
              "    <tr style=\"text-align: right;\">\n",
              "      <th></th>\n",
              "      <th>#R(kpc</th>\n",
              "      <th>V(km/s)</th>\n",
              "      <th>St.dev.</th>\n",
              "      <th>St.error</th>\n",
              "    </tr>\n",
              "  </thead>\n",
              "  <tbody>\n",
              "    <tr>\n",
              "      <th>0</th>\n",
              "      <td>0.100</td>\n",
              "      <td>183.939</td>\n",
              "      <td>0.000</td>\n",
              "      <td>0.000</td>\n",
              "    </tr>\n",
              "    <tr>\n",
              "      <th>1</th>\n",
              "      <td>0.120</td>\n",
              "      <td>190.710</td>\n",
              "      <td>10.265</td>\n",
              "      <td>12.191</td>\n",
              "    </tr>\n",
              "    <tr>\n",
              "      <th>2</th>\n",
              "      <td>0.144</td>\n",
              "      <td>204.141</td>\n",
              "      <td>22.634</td>\n",
              "      <td>21.808</td>\n",
              "    </tr>\n",
              "    <tr>\n",
              "      <th>3</th>\n",
              "      <td>0.173</td>\n",
              "      <td>207.601</td>\n",
              "      <td>4.573</td>\n",
              "      <td>4.200</td>\n",
              "    </tr>\n",
              "    <tr>\n",
              "      <th>4</th>\n",
              "      <td>0.207</td>\n",
              "      <td>210.188</td>\n",
              "      <td>3.943</td>\n",
              "      <td>3.258</td>\n",
              "    </tr>\n",
              "  </tbody>\n",
              "</table>\n",
              "</div>"
            ],
            "text/plain": [
              "   #R(kpc  V(km/s)  St.dev.  St.error\n",
              "0   0.100  183.939    0.000     0.000\n",
              "1   0.120  190.710   10.265    12.191\n",
              "2   0.144  204.141   22.634    21.808\n",
              "3   0.173  207.601    4.573     4.200\n",
              "4   0.207  210.188    3.943     3.258"
            ]
          },
          "metadata": {
            "tags": []
          },
          "execution_count": 4
        }
      ]
    },
    {
      "cell_type": "code",
      "metadata": {
        "id": "9lio356xvt0l",
        "colab_type": "code",
        "colab": {}
      },
      "source": [
        "m31 = m31.rename(columns = {'#R(kpc': 'r',\n",
        "                           'V(km/s)' : 'v',\n",
        "                           'St.dev.' : 'dv',\n",
        "                           'St.error': 'err'})"
      ],
      "execution_count": 0,
      "outputs": []
    },
    {
      "cell_type": "code",
      "metadata": {
        "ExecuteTime": {
          "end_time": "2019-08-02T01:35:26.395158Z",
          "start_time": "2019-08-02T01:35:26.373338Z"
        },
        "run_control": {
          "frozen": false,
          "read_only": false
        },
        "id": "QsNRokb1OdCh",
        "colab_type": "code",
        "outputId": "533d2da7-1800-4c80-801d-6330aca4c97d",
        "colab": {
          "base_uri": "https://localhost:8080/",
          "height": 300
        }
      },
      "source": [
        "m31.describe()"
      ],
      "execution_count": 0,
      "outputs": [
        {
          "output_type": "execute_result",
          "data": {
            "text/html": [
              "<div>\n",
              "<style scoped>\n",
              "    .dataframe tbody tr th:only-of-type {\n",
              "        vertical-align: middle;\n",
              "    }\n",
              "\n",
              "    .dataframe tbody tr th {\n",
              "        vertical-align: top;\n",
              "    }\n",
              "\n",
              "    .dataframe thead th {\n",
              "        text-align: right;\n",
              "    }\n",
              "</style>\n",
              "<table border=\"1\" class=\"dataframe\">\n",
              "  <thead>\n",
              "    <tr style=\"text-align: right;\">\n",
              "      <th></th>\n",
              "      <th>r</th>\n",
              "      <th>v</th>\n",
              "      <th>dv</th>\n",
              "      <th>err</th>\n",
              "    </tr>\n",
              "  </thead>\n",
              "  <tbody>\n",
              "    <tr>\n",
              "      <th>count</th>\n",
              "      <td>55.000000</td>\n",
              "      <td>55.000000</td>\n",
              "      <td>55.000000</td>\n",
              "      <td>55.000000</td>\n",
              "    </tr>\n",
              "    <tr>\n",
              "      <th>mean</th>\n",
              "      <td>205.853182</td>\n",
              "      <td>226.079255</td>\n",
              "      <td>55.034818</td>\n",
              "      <td>16.165855</td>\n",
              "    </tr>\n",
              "    <tr>\n",
              "      <th>std</th>\n",
              "      <td>415.523904</td>\n",
              "      <td>42.799892</td>\n",
              "      <td>49.254792</td>\n",
              "      <td>14.876951</td>\n",
              "    </tr>\n",
              "    <tr>\n",
              "      <th>min</th>\n",
              "      <td>0.100000</td>\n",
              "      <td>121.974000</td>\n",
              "      <td>0.000000</td>\n",
              "      <td>0.000000</td>\n",
              "    </tr>\n",
              "    <tr>\n",
              "      <th>25%</th>\n",
              "      <td>1.177000</td>\n",
              "      <td>208.894500</td>\n",
              "      <td>11.945500</td>\n",
              "      <td>3.224000</td>\n",
              "    </tr>\n",
              "    <tr>\n",
              "      <th>50%</th>\n",
              "      <td>13.737000</td>\n",
              "      <td>229.124000</td>\n",
              "      <td>30.697000</td>\n",
              "      <td>12.065000</td>\n",
              "    </tr>\n",
              "    <tr>\n",
              "      <th>75%</th>\n",
              "      <td>161.675000</td>\n",
              "      <td>244.102500</td>\n",
              "      <td>99.980000</td>\n",
              "      <td>23.641000</td>\n",
              "    </tr>\n",
              "    <tr>\n",
              "      <th>max</th>\n",
              "      <td>1887.071000</td>\n",
              "      <td>414.942000</td>\n",
              "      <td>147.835000</td>\n",
              "      <td>54.110000</td>\n",
              "    </tr>\n",
              "  </tbody>\n",
              "</table>\n",
              "</div>"
            ],
            "text/plain": [
              "                 r           v          dv        err\n",
              "count    55.000000   55.000000   55.000000  55.000000\n",
              "mean    205.853182  226.079255   55.034818  16.165855\n",
              "std     415.523904   42.799892   49.254792  14.876951\n",
              "min       0.100000  121.974000    0.000000   0.000000\n",
              "25%       1.177000  208.894500   11.945500   3.224000\n",
              "50%      13.737000  229.124000   30.697000  12.065000\n",
              "75%     161.675000  244.102500   99.980000  23.641000\n",
              "max    1887.071000  414.942000  147.835000  54.110000"
            ]
          },
          "metadata": {
            "tags": []
          },
          "execution_count": 6
        }
      ]
    },
    {
      "cell_type": "markdown",
      "metadata": {
        "run_control": {
          "frozen": false,
          "read_only": false
        },
        "id": "Vv0Ut6vOOdCk",
        "colab_type": "text"
      },
      "source": [
        "from https://en.wikipedia.org/wiki/Andromeda_Galaxy get the extent of the luminous component of M31 (Andromeda). The distance of the Galaxy multiplied by the angular size will give you this information from basic trigonometry (make sure you convert the units properly, using astropy). Make sure you include the uncertainties! uncertainties in the distance will give you the uncertainty in the size\n",
        "   \n",
        " "
      ]
    },
    {
      "cell_type": "code",
      "metadata": {
        "id": "kvIFr6D778ri",
        "colab_type": "code",
        "colab": {}
      },
      "source": [
        "apparentSizeM31 = 3.167 #deg\n",
        "distanceM31 = 778 #kpc \n",
        "distanceUncertainty = 33 #deg"
      ],
      "execution_count": 0,
      "outputs": []
    },
    {
      "cell_type": "code",
      "metadata": {
        "ExecuteTime": {
          "end_time": "2019-08-02T01:35:41.413407Z",
          "start_time": "2019-08-02T01:35:41.408764Z"
        },
        "run_control": {
          "frozen": false,
          "read_only": false
        },
        "id": "tzGNh98hOdCl",
        "colab_type": "code",
        "outputId": "949f1a8a-fc6a-407b-be23-b563a4f4de72",
        "colab": {
          "base_uri": "https://localhost:8080/",
          "height": 34
        }
      },
      "source": [
        "# note : by PEP8 standards the import should be at the top, I leave it here for hyou to see that I am using astropy.units now\n",
        "from astropy import units as u\n",
        "m31angS = apparentSizeM31 * u.degree\n",
        "print(\"Angular Size of the visible component of Andromeda: {:.2f}\".format(m31angS.to(u.rad)  ))"
      ],
      "execution_count": 0,
      "outputs": [
        {
          "output_type": "stream",
          "text": [
            "Angular Size of the visible component of Andromeda: 0.06 rad\n"
          ],
          "name": "stdout"
        }
      ]
    },
    {
      "cell_type": "markdown",
      "metadata": {
        "id": "cOw0Y4KNWTOZ",
        "colab_type": "text"
      },
      "source": [
        "Please make sure you print a sensible number of decimal digits! you have a  number of significant digits set by the number of digit in the info you get from wikipedia"
      ]
    },
    {
      "cell_type": "markdown",
      "metadata": {
        "id": "hF2wXZ988QgS",
        "colab_type": "text"
      },
      "source": [
        "The distance, from Wikipedia, will have an uncertainty. Convert both to kiloparsecs Kpc"
      ]
    },
    {
      "cell_type": "code",
      "metadata": {
        "ExecuteTime": {
          "end_time": "2019-08-02T01:35:42.257553Z",
          "start_time": "2019-08-02T01:35:42.254539Z"
        },
        "run_control": {
          "frozen": false,
          "read_only": false
        },
        "id": "7-nEP6KrOdCo",
        "colab_type": "code",
        "colab": {}
      },
      "source": [
        "m31dist = distanceM31 * u.kiloparsec\n",
        "m31distUncert = distanceUncertainty * u.kiloparsec\n",
        "\n",
        "m31size = (m31angS.to(u.rad) * m31dist)/u.rad\n",
        "m31sizeUncert = (m31angS.to(u.rad) * m31distUncert)/u.rad"
      ],
      "execution_count": 0,
      "outputs": []
    },
    {
      "cell_type": "code",
      "metadata": {
        "ExecuteTime": {
          "end_time": "2019-08-02T01:35:42.815232Z",
          "start_time": "2019-08-02T01:35:42.810316Z"
        },
        "run_control": {
          "frozen": false,
          "read_only": false
        },
        "id": "0y_V9AuFOdCv",
        "colab_type": "code",
        "outputId": "76e4ec09-8357-415b-e384-271c318c2ebd",
        "colab": {
          "base_uri": "https://localhost:8080/",
          "height": 34
        }
      },
      "source": [
        "print('Size of the visibile component of Andromeda: {:.1f}'.format(m31size), '+/-{:.1f}'.format(m31sizeUncert))"
      ],
      "execution_count": 0,
      "outputs": [
        {
          "output_type": "stream",
          "text": [
            "Size of the visibile component of Andromeda: 43.0 kpc +/-1.8 kpc\n"
          ],
          "name": "stdout"
        }
      ]
    },
    {
      "cell_type": "markdown",
      "metadata": {
        "id": "_pTXgdTL8jv6",
        "colab_type": "text"
      },
      "source": [
        "Print the distance like I printed the angular size. \n",
        "\n",
        "To get the physical size of the visible component of andtomeda you can use simple trigonometry: $y = r * sin(\\alpha) ~ \\sim ~ r \\alpha $ for small angles \n",
        "\n",
        "\n",
        "Print the physical size of the Andromeda galaxy (remember decimal digits, proper formatting etc etc). \n"
      ]
    },
    {
      "cell_type": "code",
      "metadata": {
        "id": "srpCRt8YzPoq",
        "colab_type": "code",
        "outputId": "741a63b3-4496-485c-c604-bc361be3da34",
        "colab": {
          "base_uri": "https://localhost:8080/",
          "height": 34
        }
      },
      "source": [
        "print('Distance of the visible component of Andromeda: {:.0f}'.format(m31dist),'+/- {:.0f}'.format(m31distUncert))\n"
      ],
      "execution_count": 0,
      "outputs": [
        {
          "output_type": "stream",
          "text": [
            "Distance of the visible component of Andromeda: 778 kpc +/- 33 kpc\n"
          ],
          "name": "stdout"
        }
      ]
    },
    {
      "cell_type": "markdown",
      "metadata": {
        "run_control": {
          "frozen": false,
          "read_only": false
        },
        "id": "97o52hRhOdCy",
        "colab_type": "text"
      },
      "source": [
        "### find the first measurement  in your data table that includes all the luminous mass. \n",
        "\n",
        "What is the smallest radius in your data where the luminous mass is completely included and what is the veolcity at that radius?\n",
        "You can do it by broadcasting (see homework 3)"
      ]
    },
    {
      "cell_type": "markdown",
      "metadata": {
        "run_control": {
          "frozen": false,
          "read_only": false
        },
        "id": "TVWiU84XOdDA",
        "colab_type": "text"
      },
      "source": [
        "We expect the velocity to decrease as 1/r if all mass is included: the velocity at a radius twice as far as the radius that includes all the mass should be a factor 2 slower, three times as far a factor 3 slower. "
      ]
    },
    {
      "cell_type": "markdown",
      "metadata": {
        "id": "b096Ax33SiXl",
        "colab_type": "text"
      },
      "source": [
        "write a function that \n",
        "\n",
        "1. finds the smallest radius in the dataset that is at least N times the radius of the visible galaxy, \n",
        "\n",
        "2. takes as arguments:\n",
        "    - the data and \n",
        "    - N \n",
        "    - the size of the luminous component of the galaxy\n",
        " \n",
        "2. Returns the value of the radius and its uncertainty and the velocity and its uncertainty"
      ]
    },
    {
      "cell_type": "code",
      "metadata": {
        "ExecuteTime": {
          "end_time": "2019-08-02T02:07:26.053511Z",
          "start_time": "2019-08-02T02:07:26.046677Z"
        },
        "run_control": {
          "frozen": false,
          "read_only": false
        },
        "id": "-_O34Bb7OdC2",
        "colab_type": "code",
        "colab": {}
      },
      "source": [
        "def getradii(gal, gsize, n):\n",
        "  radius, minVelocity,velocityUncert,stdError = gal[gal['r'] > n*gsize].iloc[0]\n",
        "  radiusU = 2*radius**(-3)*velocityUncert\n",
        "  return radius, radiusU, minVelocity, velocityUncert, stdError \n",
        "  \n",
        "      "
      ],
      "execution_count": 0,
      "outputs": []
    },
    {
      "cell_type": "markdown",
      "metadata": {
        "ExecuteTime": {
          "end_time": "2019-08-01T18:13:58.231637Z",
          "start_time": "2019-08-01T18:13:58.229447Z"
        },
        "run_control": {
          "frozen": false,
          "read_only": false
        },
        "id": "ogu_iquzOdC5",
        "colab_type": "text"
      },
      "source": [
        "### data visualization"
      ]
    },
    {
      "cell_type": "markdown",
      "metadata": {
        "id": "kJ6MujVJUyel",
        "colab_type": "text"
      },
      "source": [
        "make a plot that shows\n",
        "\n",
        "1. the rotational curve of the galaxy (as a line)\n",
        "\n",
        "2. each velocity as an errorbar with error equal to err in the same color as the line in 1\n",
        "\n",
        "3. each velocity as an errorbar with error equal to dv in  the same color but a different line thickness\n",
        "\n",
        "\n",
        "4. the datapoint corresponding to N=1, 2, 3 each in a different color. \n",
        "\n",
        "5. add a legend that indicates the meaning of each color (```pl.legend()```)\n",
        "\n",
        "6. add a text that indicates the velocity and its uncertainty (dv and err) just below the largest errorbar (```pl.text()```)\n",
        "\n",
        "7. limit the x axis to the \"relevant\" portion of the data"
      ]
    },
    {
      "cell_type": "code",
      "metadata": {
        "ExecuteTime": {
          "end_time": "2019-08-02T03:01:27.556063Z",
          "start_time": "2019-08-02T03:01:27.302184Z"
        },
        "run_control": {
          "frozen": false,
          "read_only": false
        },
        "id": "7IMXYY8BOdC6",
        "colab_type": "code",
        "outputId": "ddc9a8e5-cbae-4e12-816b-00232f31eaf5",
        "colab": {
          "base_uri": "https://localhost:8080/",
          "height": 299
        }
      },
      "source": [
        "\n",
        "def plotGal(gal, rds):\n",
        "  fig = plt.figure(figsize = (10,10))\n",
        "  fig.subplots_adjust(top=0.8)\n",
        "  ax1 = fig.add_subplot(211)\n",
        "  ax1.set_ylabel('radius(kpc)')\n",
        "  plt.errorbar(gal['r'], gal['v'], xerr=0, yerr=gal['err'], c='C0', linewidth=2.5, label=None)\n",
        "  plt.errorbar(gal['r'], gal['v'], xerr=0, yerr=gal['dv'], c='C0', linewidth=1.5, label='velocity')\n",
        "  \n",
        "  colors = ['C1', 'C2', 'C3']\n",
        "  for n in range(1, 4):\n",
        "    radius, dradius, velocity, dvelocity, sterr = getradii(gal, rds, n)\n",
        "    plt.errorbar(radius, velocity, yerr = dvelocity, linewidth=2, c=colors[n-1], label=(str(n)+'xradius'))\n",
        "    plt.errorbar(radius, velocity, yerr = sterr, linewidth=2.5, c='k')\n",
        "    plt.text(radius - 10, velocity - dvelocity - 25, '%.1f' % velocity)\n",
        "    plt.text(radius - 20, velocity - dvelocity - 50, '(%.1f %.1f)' % (dvelocity, sterr))\n",
        "    \n",
        "  plt.legend()\n",
        "  \n",
        "  plt.xlim(0, 200)\n",
        "  plt.ylim(0, 500)\n",
        "  ax1.set_xlabel(\"radius (kpc)\")\n",
        "  ax1.set_ylabel(\"Velocity (km/s)\")\n",
        "  ax1.set_title(\"Radius and velocity + rotl. curve and velocity errors\")\n",
        "  \n",
        "m31Rds = m31size\n",
        "plotGal(m31, m31Rds)"
      ],
      "execution_count": 75,
      "outputs": [
        {
          "output_type": "display_data",
          "data": {
            "image/png": "[encoded data removed]",
            "text/plain": [
              "<Figure size 720x720 with 1 Axes>"
            ]
          },
          "metadata": {
            "tags": []
          }
        }
      ]
    },
    {
      "cell_type": "markdown",
      "metadata": {
        "id": "bIbv3YrhTo0X",
        "colab_type": "text"
      },
      "source": [
        "Write a function that for a given dataset and a given luminous radius and a given N \n",
        "  \n",
        "  1) uses the function above to find the radius at least as large as needed and the velocity at that radius, \n",
        "  \n",
        "  2) states the expected drop in rotational velocities according to Newton's law $v\\propto 1/r$\n",
        "  \n",
        "  3) calculates the ratio of radii and the ratio of velocities at N radii from the center N=1 and N=N (input, e.g. 2, 3 etc) with uncertainties, \n",
        "  \n",
        "  4) and stated whether that ratio is consistent within the uncertainties with Newton's law $v \\propto 1/r$\n",
        "  \n",
        "Your function should print \n",
        "\n",
        "     - the expected ratio based on the radii, \n",
        "     - the calculated ratio using ```dv```, and its uncertainty, - \n",
        "     - the 2-$\\sigma$ upper and lower limits of the calculated ratio\n",
        "     - whether the expected ratio is within the $2-\\sigma$ of the calculated ratio, \n",
        "  5) and the same using ```err```  instead of ```dv```"
      ]
    },
    {
      "cell_type": "code",
      "metadata": {
        "ExecuteTime": {
          "end_time": "2019-08-02T02:22:18.485172Z",
          "start_time": "2019-08-02T02:22:18.477807Z"
        },
        "run_control": {
          "frozen": false,
          "read_only": false
        },
        "id": "1hhTw8N4OdDB",
        "colab_type": "code",
        "colab": {
          "base_uri": "https://localhost:8080/",
          "height": 749
        },
        "outputId": "724783ae-bccb-4c2d-a7c5-94ab2f5319f5"
      },
      "source": [
        "def vratios(gal, rds, n,err='dveocity'):\n",
        "  initialRadius, initialVelocity = gal.iloc[0][:2]\n",
        "  radius, dradius, velocity, dvelocity, sterr = getradii(gal, rds, n)\n",
        "  if err == 'sterr':\n",
        "    dvelocity = sterr\n",
        "  \n",
        "  rRatio = radius / initialRadius\n",
        "  expectedVelocity = initialVelocity/(rRatio)**0.5\n",
        "  expectedRatio = initialVelocity / expectedVelocity\n",
        "  \n",
        "  upperLimit = velocity + 2*dvelocity\n",
        "  lowerLimit = velocity - 2*dvelocity\n",
        "  \n",
        "  upperRatio =  initialVelocity / max(lowerLimit, 4)\n",
        "  lowerRatio =  initialVelocity / upperLimit\n",
        "  \n",
        "  #print('Initial: %.1f \\t Final: %.1f ' % (initialRadius, initialVelocity))\n",
        "  print(\"The expected velocity based on the radius is %.1f\" % expectedVelocity)\n",
        "  print(\"The actual velocity is %.1f \\u00B1 %.1f\" % (velocity, 2*dvelocity))\n",
        "  print(\"The expected expected ratio based on the radius is %.1f\" % expectedRatio)  \n",
        "  print('The 2-\\u03C3 lower and upper limits for the calculated ratio are (%.1f, %.1f)' % (lowerRatio, upperRatio))\n",
        "  message = \"IS NOT\"\n",
        "  if (lowerRatio < expectedRatio < upperRatio):\n",
        "    message = \"IS\"\n",
        "  print(\"The expected ratio\", message, \"within 2-\\u03C3 of the calculated ratio\")\n",
        "  \n",
        "def printSdandErr(gal,rds,N):\n",
        "  print(\"\\033[1mUsing the Standard Deviation\\033[0m\\n\")\n",
        "  for n in range(1, N):\n",
        "    vratios(gal, rds, n)\n",
        "    print()\n",
        "  \n",
        "  print(\"---------------------------------------------------------------------------------------------------\")\n",
        "  print(\"\\033[1mUsing the Standard Error\\033[0m\\n\")\n",
        "  for n in range(1, N):\n",
        "    vratios(gal, rds, n, 'sterr')\n",
        "    print()\n",
        "\n",
        "\n",
        "printSdandErr(m31,m31size,4)"
      ],
      "execution_count": 91,
      "outputs": [
        {
          "output_type": "stream",
          "text": [
            "\u001b[1mUsing the Standard Deviation\u001b[0m\n",
            "\n",
            "The expected velocity based on the radius is 8.3\n",
            "The actual velocity is 237.1 ± 218.8\n",
            "The expected expected ratio based on the radius is 22.2\n",
            "The 2-σ lower and upper limits for the calculated ratio are (0.4, 10.0)\n",
            "The expected ratio IS NOT within 2-σ of the calculated ratio\n",
            "\n",
            "The expected velocity based on the radius is 5.8\n",
            "The actual velocity is 213.0 ± 264.9\n",
            "The expected expected ratio based on the radius is 31.9\n",
            "The 2-σ lower and upper limits for the calculated ratio are (0.4, 46.0)\n",
            "The expected ratio IS within 2-σ of the calculated ratio\n",
            "\n",
            "The expected velocity based on the radius is 4.8\n",
            "The actual velocity is 177.5 ± 163.5\n",
            "The expected expected ratio based on the radius is 38.3\n",
            "The 2-σ lower and upper limits for the calculated ratio are (0.5, 13.1)\n",
            "The expected ratio IS NOT within 2-σ of the calculated ratio\n",
            "\n",
            "---------------------------------------------------------------------------------------------------\n",
            "\u001b[1mUsing the Standard Error\u001b[0m\n",
            "\n",
            "The expected velocity based on the radius is 8.3\n",
            "The actual velocity is 237.1 ± 47.8\n",
            "The expected expected ratio based on the radius is 22.2\n",
            "The 2-σ lower and upper limits for the calculated ratio are (0.6, 1.0)\n",
            "The expected ratio IS NOT within 2-σ of the calculated ratio\n",
            "\n",
            "The expected velocity based on the radius is 5.8\n",
            "The actual velocity is 213.0 ± 58.6\n",
            "The expected expected ratio based on the radius is 31.9\n",
            "The 2-σ lower and upper limits for the calculated ratio are (0.7, 1.2)\n",
            "The expected ratio IS NOT within 2-σ of the calculated ratio\n",
            "\n",
            "The expected velocity based on the radius is 4.8\n",
            "The actual velocity is 177.5 ± 33.3\n",
            "The expected expected ratio based on the radius is 38.3\n",
            "The 2-σ lower and upper limits for the calculated ratio are (0.9, 1.3)\n",
            "The expected ratio IS NOT within 2-σ of the calculated ratio\n",
            "\n"
          ],
          "name": "stdout"
        }
      ]
    },
    {
      "cell_type": "markdown",
      "metadata": {
        "ExecuteTime": {
          "end_time": "2019-08-02T00:36:41.637045Z",
          "start_time": "2019-08-02T00:36:41.634825Z"
        },
        "run_control": {
          "frozen": false,
          "read_only": false
        },
        "id": "6me5k4c1OdDY",
        "colab_type": "text"
      },
      "source": [
        "### Discuss!"
      ]
    },
    {
      "cell_type": "markdown",
      "metadata": {
        "run_control": {
          "frozen": false,
          "read_only": false
        },
        "id": "QIHRn8UlOdDZ",
        "colab_type": "text"
      },
      "source": [
        "## do the same for the Milky Way. If your functions were create properly you should be able to reuse them seamlessly"
      ]
    },
    {
      "cell_type": "code",
      "metadata": {
        "id": "NVp9cJzv-Dic",
        "colab_type": "code",
        "colab": {}
      },
      "source": [
        "mw = pd.read_csv(\"https://raw.githubusercontent.com/fedhere/DSPS/master/HW4/mw.csv\", header = 1)"
      ],
      "execution_count": 0,
      "outputs": []
    },
    {
      "cell_type": "code",
      "metadata": {
        "id": "xQ7_JpOVRBNM",
        "colab_type": "code",
        "colab": {
          "base_uri": "https://localhost:8080/",
          "height": 206
        },
        "outputId": "b04e7849-7f80-47ee-99ba-bec8a26c3316"
      },
      "source": [
        "mw.head()"
      ],
      "execution_count": 83,
      "outputs": [
        {
          "output_type": "execute_result",
          "data": {
            "text/html": [
              "<div>\n",
              "<style scoped>\n",
              "    .dataframe tbody tr th:only-of-type {\n",
              "        vertical-align: middle;\n",
              "    }\n",
              "\n",
              "    .dataframe tbody tr th {\n",
              "        vertical-align: top;\n",
              "    }\n",
              "\n",
              "    .dataframe thead th {\n",
              "        text-align: right;\n",
              "    }\n",
              "</style>\n",
              "<table border=\"1\" class=\"dataframe\">\n",
              "  <thead>\n",
              "    <tr style=\"text-align: right;\">\n",
              "      <th></th>\n",
              "      <th>R(kpc)</th>\n",
              "      <th>V(km/s)</th>\n",
              "      <th>St.dev.</th>\n",
              "      <th>St.error</th>\n",
              "    </tr>\n",
              "  </thead>\n",
              "  <tbody>\n",
              "    <tr>\n",
              "      <th>0</th>\n",
              "      <td>0.010</td>\n",
              "      <td>119.061</td>\n",
              "      <td>41.832</td>\n",
              "      <td>32.714</td>\n",
              "    </tr>\n",
              "    <tr>\n",
              "      <th>1</th>\n",
              "      <td>0.012</td>\n",
              "      <td>115.268</td>\n",
              "      <td>35.199</td>\n",
              "      <td>17.100</td>\n",
              "    </tr>\n",
              "    <tr>\n",
              "      <th>2</th>\n",
              "      <td>0.014</td>\n",
              "      <td>117.392</td>\n",
              "      <td>35.152</td>\n",
              "      <td>14.429</td>\n",
              "    </tr>\n",
              "    <tr>\n",
              "      <th>3</th>\n",
              "      <td>0.017</td>\n",
              "      <td>118.475</td>\n",
              "      <td>35.252</td>\n",
              "      <td>14.870</td>\n",
              "    </tr>\n",
              "    <tr>\n",
              "      <th>4</th>\n",
              "      <td>0.021</td>\n",
              "      <td>110.386</td>\n",
              "      <td>33.817</td>\n",
              "      <td>14.427</td>\n",
              "    </tr>\n",
              "  </tbody>\n",
              "</table>\n",
              "</div>"
            ],
            "text/plain": [
              "   R(kpc)  V(km/s)  St.dev.  St.error\n",
              "0   0.010  119.061   41.832    32.714\n",
              "1   0.012  115.268   35.199    17.100\n",
              "2   0.014  117.392   35.152    14.429\n",
              "3   0.017  118.475   35.252    14.870\n",
              "4   0.021  110.386   33.817    14.427"
            ]
          },
          "metadata": {
            "tags": []
          },
          "execution_count": 83
        }
      ]
    },
    {
      "cell_type": "code",
      "metadata": {
        "id": "gMzFdJrYRCBM",
        "colab_type": "code",
        "colab": {
          "base_uri": "https://localhost:8080/",
          "height": 206
        },
        "outputId": "db271344-890e-43b9-e6a5-faf12f992dad"
      },
      "source": [
        "mw = mw.rename(columns = {'R(kpc)': 'r',\n",
        "                           'v' : 'v',\n",
        "                           'St.dev.' : 'dv',\n",
        "                           'St.error': 'err'})\n",
        "mw.head()"
      ],
      "execution_count": 87,
      "outputs": [
        {
          "output_type": "execute_result",
          "data": {
            "text/html": [
              "<div>\n",
              "<style scoped>\n",
              "    .dataframe tbody tr th:only-of-type {\n",
              "        vertical-align: middle;\n",
              "    }\n",
              "\n",
              "    .dataframe tbody tr th {\n",
              "        vertical-align: top;\n",
              "    }\n",
              "\n",
              "    .dataframe thead th {\n",
              "        text-align: right;\n",
              "    }\n",
              "</style>\n",
              "<table border=\"1\" class=\"dataframe\">\n",
              "  <thead>\n",
              "    <tr style=\"text-align: right;\">\n",
              "      <th></th>\n",
              "      <th>r</th>\n",
              "      <th>v</th>\n",
              "      <th>dv</th>\n",
              "      <th>err</th>\n",
              "    </tr>\n",
              "  </thead>\n",
              "  <tbody>\n",
              "    <tr>\n",
              "      <th>0</th>\n",
              "      <td>0.010</td>\n",
              "      <td>119.061</td>\n",
              "      <td>41.832</td>\n",
              "      <td>32.714</td>\n",
              "    </tr>\n",
              "    <tr>\n",
              "      <th>1</th>\n",
              "      <td>0.012</td>\n",
              "      <td>115.268</td>\n",
              "      <td>35.199</td>\n",
              "      <td>17.100</td>\n",
              "    </tr>\n",
              "    <tr>\n",
              "      <th>2</th>\n",
              "      <td>0.014</td>\n",
              "      <td>117.392</td>\n",
              "      <td>35.152</td>\n",
              "      <td>14.429</td>\n",
              "    </tr>\n",
              "    <tr>\n",
              "      <th>3</th>\n",
              "      <td>0.017</td>\n",
              "      <td>118.475</td>\n",
              "      <td>35.252</td>\n",
              "      <td>14.870</td>\n",
              "    </tr>\n",
              "    <tr>\n",
              "      <th>4</th>\n",
              "      <td>0.021</td>\n",
              "      <td>110.386</td>\n",
              "      <td>33.817</td>\n",
              "      <td>14.427</td>\n",
              "    </tr>\n",
              "  </tbody>\n",
              "</table>\n",
              "</div>"
            ],
            "text/plain": [
              "       r        v      dv     err\n",
              "0  0.010  119.061  41.832  32.714\n",
              "1  0.012  115.268  35.199  17.100\n",
              "2  0.014  117.392  35.152  14.429\n",
              "3  0.017  118.475  35.252  14.870\n",
              "4  0.021  110.386  33.817  14.427"
            ]
          },
          "metadata": {
            "tags": []
          },
          "execution_count": 87
        }
      ]
    },
    {
      "cell_type": "code",
      "metadata": {
        "id": "hXvPUDpKRHCU",
        "colab_type": "code",
        "colab": {
          "base_uri": "https://localhost:8080/",
          "height": 306
        },
        "outputId": "55617dff-c7c6-48e4-bcb5-30251f48b61f"
      },
      "source": [
        "mwsize = 53.5\n",
        "mwUncertainty = 7.5\n",
        "plotGal(mw,mwsize)"
      ],
      "execution_count": 88,
      "outputs": [
        {
          "output_type": "display_data",
          "data": {
            "image/png": "[encoded data removed]",
            "text/plain": [
              "<Figure size 720x720 with 1 Axes>"
            ]
          },
          "metadata": {
            "tags": []
          }
        }
      ]
    },
    {
      "cell_type": "code",
      "metadata": {
        "id": "71GZADjATVFt",
        "colab_type": "code",
        "colab": {
          "base_uri": "https://localhost:8080/",
          "height": 749
        },
        "outputId": "174c4b51-5b3c-4c3c-c5cd-d01c2c409be1"
      },
      "source": [
        "printSdandErr(mw,mwsize,4)"
      ],
      "execution_count": 92,
      "outputs": [
        {
          "output_type": "stream",
          "text": [
            "\u001b[1mUsing the Standard Deviation\u001b[0m\n",
            "\n",
            "The expected velocity based on the radius is 1.5\n",
            "The actual velocity is 178.0 ± 94.0\n",
            "The expected expected ratio based on the radius is 79.5\n",
            "The 2-σ lower and upper limits for the calculated ratio are (0.4, 1.4)\n",
            "The expected ratio IS NOT within 2-σ of the calculated ratio\n",
            "\n",
            "The expected velocity based on the radius is 1.1\n",
            "The actual velocity is 155.4 ± 154.3\n",
            "The expected expected ratio based on the radius is 104.5\n",
            "The 2-σ lower and upper limits for the calculated ratio are (0.4, 29.8)\n",
            "The expected ratio IS NOT within 2-σ of the calculated ratio\n",
            "\n",
            "The expected velocity based on the radius is 0.9\n",
            "The actual velocity is 133.6 ± 330.2\n",
            "The expected expected ratio based on the radius is 137.4\n",
            "The 2-σ lower and upper limits for the calculated ratio are (0.3, 29.8)\n",
            "The expected ratio IS NOT within 2-σ of the calculated ratio\n",
            "\n",
            "---------------------------------------------------------------------------------------------------\n",
            "\u001b[1mUsing the Standard Error\u001b[0m\n",
            "\n",
            "The expected velocity based on the radius is 1.5\n",
            "The actual velocity is 178.0 ± 32.7\n",
            "The expected expected ratio based on the radius is 79.5\n",
            "The 2-σ lower and upper limits for the calculated ratio are (0.6, 0.8)\n",
            "The expected ratio IS NOT within 2-σ of the calculated ratio\n",
            "\n",
            "The expected velocity based on the radius is 1.1\n",
            "The actual velocity is 155.4 ± 57.0\n",
            "The expected expected ratio based on the radius is 104.5\n",
            "The 2-σ lower and upper limits for the calculated ratio are (0.6, 1.2)\n",
            "The expected ratio IS NOT within 2-σ of the calculated ratio\n",
            "\n",
            "The expected velocity based on the radius is 0.9\n",
            "The actual velocity is 133.6 ± 215.8\n",
            "The expected expected ratio based on the radius is 137.4\n",
            "The 2-σ lower and upper limits for the calculated ratio are (0.3, 29.8)\n",
            "The expected ratio IS NOT within 2-σ of the calculated ratio\n",
            "\n"
          ],
          "name": "stdout"
        }
      ]
    }
  ]
}